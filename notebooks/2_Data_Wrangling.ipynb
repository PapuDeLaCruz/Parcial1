{
 "cells": [
  {
   "cell_type": "markdown",
   "metadata": {},
   "source": [
    "Lo único que necesita wrangling vienen a ser los valores nulos en churn date. Podemos hacer drop a esta columna ya que no nos sirve para predecir el valor mensual. Usar datos de clientes que ya no están aún es útil."
   ]
  },
  {
   "cell_type": "code",
   "execution_count": 8,
   "metadata": {},
   "outputs": [],
   "source": [
    "import pandas as pd"
   ]
  },
  {
   "cell_type": "code",
   "execution_count": 9,
   "metadata": {},
   "outputs": [],
   "source": [
    "dfCalls = pd.read_csv(\"../data/raw/megaline_calls.csv\")\n",
    "dfInternet = pd.read_csv(\"../data/raw/megaline_internet.csv\")\n",
    "dfMessages = pd.read_csv(\"../data/raw/megaline_messages.csv\")\n",
    "dfPlans = pd.read_csv(\"../data/raw/megaline_plans.csv\")\n",
    "dfUsers = pd.read_csv(\"../data/raw/megaline_users.csv\")"
   ]
  },
  {
   "cell_type": "code",
   "execution_count": 10,
   "metadata": {},
   "outputs": [],
   "source": [
    "dfUsers.drop('churn_date',inplace=True,axis = 1)"
   ]
  },
  {
   "cell_type": "code",
   "execution_count": 11,
   "metadata": {},
   "outputs": [],
   "source": [
    "dfCalls.to_csv(\"../data/clean/clean_megaline_calls.csv\")\n",
    "dfInternet.to_csv(\"../data/clean/clean_megaline_internet.csv\")\n",
    "dfMessages.to_csv(\"../data/clean/clean_megaline_messages.csv\")\n",
    "dfPlans.to_csv(\"../data/clean/clean_megaline_plans.csv\")\n",
    "dfUsers.to_csv(\"../data/clean/clean_megaline_users.csv\")"
   ]
  }
 ],
 "metadata": {
  "kernelspec": {
   "display_name": "Python 3 (ipykernel)",
   "language": "python",
   "name": "python3"
  },
  "language_info": {
   "codemirror_mode": {
    "name": "ipython",
    "version": 3
   },
   "file_extension": ".py",
   "mimetype": "text/x-python",
   "name": "python",
   "nbconvert_exporter": "python",
   "pygments_lexer": "ipython3",
   "version": "3.10.8"
  }
 },
 "nbformat": 4,
 "nbformat_minor": 2
}
