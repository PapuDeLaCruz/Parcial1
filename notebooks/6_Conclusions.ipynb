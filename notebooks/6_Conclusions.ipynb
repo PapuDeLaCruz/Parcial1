{
 "cells": [
  {
   "cell_type": "markdown",
   "metadata": {},
   "source": [
    "# Conclusiones\n",
    "\n",
    "\n",
    "El negocio no tiene un grupo de edades claro, sería una buena idea hallar un nicho en el cual enfocarse para mayor crecimiento. Considerando las fechas en las que el uso de la infraestructura es más utilizada, se puede o cobrar más en Diciembre o hacer promociones para atrapar a nuevos usuarios que se encuentren insatisfechos con su red actual. Si se quiere generar más dinero, subir un poco el valor del plan más barato no es una mala idea. \n",
    "\n",
    "El hecho de que escogen nuestro plan barato indica de cierta manera que vamos hacia un público de recursos económicos no tan bastos. Esto podría servir para hallar nuestro nucho de mercado. Enfocarnos en jóvenes no es mala idea considerando que es gente que aún no tiene tantos ingresos.\n",
    "\n",
    "Para predecir el cuanto va a consumir un usuario el siguiete mes es una buena idea enfocarse en cuanto han pagado por exceso en el consumo de internet y en cuanto tiempo llevan suscritos. Utilizar modelos no lineales haría que hallemos otro tipo de patrones que predigan mejor todo."
   ]
  }
 ],
 "metadata": {
  "kernelspec": {
   "display_name": "Python 3 (ipykernel)",
   "language": "python",
   "name": "python3"
  },
  "language_info": {
   "codemirror_mode": {
    "name": "ipython",
    "version": 3
   },
   "file_extension": ".py",
   "mimetype": "text/x-python",
   "name": "python",
   "nbconvert_exporter": "python",
   "pygments_lexer": "ipython3",
   "version": "3.10.8"
  }
 },
 "nbformat": 4,
 "nbformat_minor": 2
}
