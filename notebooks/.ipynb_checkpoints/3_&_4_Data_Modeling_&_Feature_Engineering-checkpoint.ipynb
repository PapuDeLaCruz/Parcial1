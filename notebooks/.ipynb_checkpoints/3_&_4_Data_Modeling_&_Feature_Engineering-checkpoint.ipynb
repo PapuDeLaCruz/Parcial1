{
 "cells": [
  {
   "cell_type": "markdown",
   "metadata": {},
   "source": [
    "Hago feature engineering en distintas etapa de la creación de mi obt, así que incorporo este proceso en un solo notebook. Decidi ir por obt ya que se me hizo más fácil visualizar la creación de mis variables y unirlas en una tabla grande al final. ¿Por qué no usé star o snowflake? No me parecía que tenía ningún tipo de utilidad tener las variables no cuantitativas (aparte del plan) para la predicción y tener tablas de dimensiones que no voy a ocupar me parecía una pérdida de tiempo y almacenamiento. Crearía un star, pero pedí permiso en el trabajo hasta las 12 y parece que voy a acabar 11:30 sin hacer eso."
   ]
  },
  {
   "cell_type": "code",
   "execution_count": 202,
   "metadata": {},
   "outputs": [],
   "source": [
    "import pandas as pd\n"
   ]
  },
  {
   "cell_type": "code",
   "execution_count": 203,
   "metadata": {},
   "outputs": [],
   "source": [
    "dfCalls = pd.read_csv(\"../data/clean/clean_megaline_calls.csv\")\n",
    "dfInternet = pd.read_csv(\"../data/clean/clean_megaline_internet.csv\")\n",
    "dfMessages = pd.read_csv(\"../data/clean/clean_megaline_messages.csv\")\n",
    "dfPlans = pd.read_csv(\"../data/clean/clean_megaline_plans.csv\")\n",
    "dfUsers = pd.read_csv(\"../data/clean/clean_megaline_users.csv\")"
   ]
  },
  {
   "cell_type": "code",
   "execution_count": 204,
   "metadata": {},
   "outputs": [],
   "source": [
    "def get_billing_month(reg_date, call_date):\n",
    "    months_since_reg = (call_date.year - reg_date.year) * 12 + (call_date.month - reg_date.month)\n",
    "    billing_month_start = reg_date + pd.DateOffset(months=months_since_reg)\n",
    "    return billing_month_start"
   ]
  },
  {
   "cell_type": "markdown",
   "metadata": {},
   "source": [
    "# Feature engineering"
   ]
  },
  {
   "cell_type": "code",
   "execution_count": 205,
   "metadata": {
    "scrolled": true
   },
   "outputs": [
    {
     "name": "stdout",
     "output_type": "stream",
     "text": [
      "        Unnamed: 0        id  user_id   call_date  duration\n",
      "0                0   1000_93     1000  2018-12-27      8.52\n",
      "1                1  1000_145     1000  2018-12-27     13.66\n",
      "2                2  1000_247     1000  2018-12-27     14.48\n",
      "3                3  1000_309     1000  2018-12-28      5.76\n",
      "4                4  1000_380     1000  2018-12-30      4.22\n",
      "...            ...       ...      ...         ...       ...\n",
      "137730      137730  1499_199     1499  2018-11-21      8.72\n",
      "137731      137731  1499_200     1499  2018-10-20     10.89\n",
      "137732      137732  1499_201     1499  2018-09-21      8.12\n",
      "137733      137733  1499_202     1499  2018-10-10      0.37\n",
      "137734      137734  1499_203     1499  2018-12-29     13.86\n",
      "\n",
      "[137735 rows x 5 columns]\n",
      "        Unnamed: 0        id  user_id session_date  mb_used\n",
      "0                0   1000_13     1000   2018-12-29    89.86\n",
      "1                1  1000_204     1000   2018-12-31     0.00\n",
      "2                2  1000_379     1000   2018-12-28   660.40\n",
      "3                3  1000_413     1000   2018-12-26   270.99\n",
      "4                4  1000_442     1000   2018-12-27   880.22\n",
      "...            ...       ...      ...          ...      ...\n",
      "104820      104820  1499_215     1499   2018-10-20   218.06\n",
      "104821      104821  1499_216     1499   2018-12-30   304.72\n",
      "104822      104822  1499_217     1499   2018-09-22   292.75\n",
      "104823      104823  1499_218     1499   2018-12-07     0.00\n",
      "104824      104824  1499_219     1499   2018-12-24   758.31\n",
      "\n",
      "[104825 rows x 5 columns]\n",
      "       Unnamed: 0        id  user_id message_date\n",
      "0               0  1000_125     1000   2018-12-27\n",
      "1               1  1000_160     1000   2018-12-31\n",
      "2               2  1000_223     1000   2018-12-31\n",
      "3               3  1000_251     1000   2018-12-27\n",
      "4               4  1000_255     1000   2018-12-26\n",
      "...           ...       ...      ...          ...\n",
      "76046       76046  1497_526     1497   2018-12-24\n",
      "76047       76047  1497_536     1497   2018-12-24\n",
      "76048       76048  1497_547     1497   2018-12-31\n",
      "76049       76049  1497_558     1497   2018-12-24\n",
      "76050       76050  1497_613     1497   2018-12-23\n",
      "\n",
      "[76051 rows x 4 columns]\n",
      "   Unnamed: 0  messages_included  mb_per_month_included  minutes_included  \\\n",
      "0           0                 50                  15360               500   \n",
      "1           1               1000                  30720              3000   \n",
      "\n",
      "   usd_monthly_pay  usd_per_gb  usd_per_message  usd_per_minute plan_name  \n",
      "0               20          10             0.03            0.03      surf  \n",
      "1               70           7             0.01            0.01  ultimate  \n"
     ]
    }
   ],
   "source": [
    "#visualizando mis datos\n",
    "print(dfCalls)\n",
    "print(dfInternet)\n",
    "print(dfMessages)\n",
    "print(dfPlans)"
   ]
  },
  {
   "cell_type": "markdown",
   "metadata": {},
   "source": [
    "Iniciemos con dfCalls, me interes obtener el valor mensual promedio que gasta cada persona."
   ]
  },
  {
   "cell_type": "code",
   "execution_count": 206,
   "metadata": {},
   "outputs": [],
   "source": [
    "#aegurandonos que esté en datetime\n",
    "dfCalls['call_date'] = pd.to_datetime(dfCalls['call_date'])"
   ]
  },
  {
   "cell_type": "code",
   "execution_count": 207,
   "metadata": {},
   "outputs": [],
   "source": [
    "#asegurandonos que esté en date time y haciendo que el plan tenga el mismo nombre que en el dfPlans\n",
    "dfUsers['plan_name'] = dfUsers['plan']\n",
    "dfUsers[\"reg_date\"] = pd.to_datetime(dfUsers[\"reg_date\"])"
   ]
  },
  {
   "cell_type": "code",
   "execution_count": 208,
   "metadata": {},
   "outputs": [],
   "source": [
    "#haciendo el merge con la columna que creamos\n",
    "dfPlans = dfPlans.merge(dfUsers[['user_id', 'plan_name','reg_date']], on='plan_name', how='inner')"
   ]
  },
  {
   "cell_type": "code",
   "execution_count": 209,
   "metadata": {},
   "outputs": [],
   "source": [
    "#haciendo el merge para obtener los valores que vamos a utilizar para calcular los costos\n",
    "dfCalls = dfCalls.merge(dfPlans[['user_id','minutes_included','usd_per_minute','reg_date']], on='user_id', how='inner')"
   ]
  },
  {
   "cell_type": "code",
   "execution_count": 210,
   "metadata": {},
   "outputs": [],
   "source": [
    "#obteniendo el valor mensual de cada persona\n",
    "dfCalls[\"billing_month\"] = dfCalls.apply(lambda row: get_billing_month(row[\"reg_date\"], row[\"call_date\"]), axis=1)\n",
    "\n",
    "df_agg = dfCalls.groupby([\"user_id\", \"billing_month\"]).agg(\n",
    "    reg_date=(\"reg_date\", \"first\"),\n",
    "    total_minutes=(\"duration\", \"sum\"),\n",
    "    minutes_included=(\"minutes_included\", \"first\"),\n",
    "    usd_per_minute=(\"usd_per_minute\", \"first\")\n",
    ").reset_index()\n",
    "\n",
    "df_agg[\"extra_minutes\"] = np.maximum(df_agg[\"total_minutes\"] - df_agg[\"minutes_included\"], 0)\n",
    "df_agg[\"extra_charges_minutes\"] = df_agg[\"extra_minutes\"] * df_agg[\"usd_per_minute\"]\n"
   ]
  },
  {
   "cell_type": "code",
   "execution_count": 211,
   "metadata": {},
   "outputs": [
    {
     "name": "stdout",
     "output_type": "stream",
     "text": [
      "      user_id billing_month   reg_date  total_minutes  minutes_included  \\\n",
      "0        1000    2018-12-24 2018-12-24         116.83              3000   \n",
      "1        1001    2018-08-13 2018-08-13         171.14               500   \n",
      "2        1001    2018-09-13 2018-08-13         297.69               500   \n",
      "3        1001    2018-10-13 2018-08-13         374.11               500   \n",
      "4        1001    2018-11-13 2018-08-13         404.59               500   \n",
      "...       ...           ...        ...            ...               ...   \n",
      "2253     1498    2018-12-04 2018-02-04         324.77               500   \n",
      "2254     1499    2018-09-06 2018-05-06         330.37               500   \n",
      "2255     1499    2018-10-06 2018-05-06         363.28               500   \n",
      "2256     1499    2018-11-06 2018-05-06         288.56               500   \n",
      "2257     1499    2018-12-06 2018-05-06         468.10               500   \n",
      "\n",
      "      usd_per_minute  extra_minutes  extra_charges_minutes  \n",
      "0               0.01            0.0                    0.0  \n",
      "1               0.03            0.0                    0.0  \n",
      "2               0.03            0.0                    0.0  \n",
      "3               0.03            0.0                    0.0  \n",
      "4               0.03            0.0                    0.0  \n",
      "...              ...            ...                    ...  \n",
      "2253            0.03            0.0                    0.0  \n",
      "2254            0.03            0.0                    0.0  \n",
      "2255            0.03            0.0                    0.0  \n",
      "2256            0.03            0.0                    0.0  \n",
      "2257            0.03            0.0                    0.0  \n",
      "\n",
      "[2258 rows x 8 columns]\n"
     ]
    }
   ],
   "source": [
    "#visualizando el progreso\n",
    "print(df_agg)"
   ]
  },
  {
   "cell_type": "code",
   "execution_count": 212,
   "metadata": {},
   "outputs": [
    {
     "data": {
      "text/html": [
       "<div>\n",
       "<style scoped>\n",
       "    .dataframe tbody tr th:only-of-type {\n",
       "        vertical-align: middle;\n",
       "    }\n",
       "\n",
       "    .dataframe tbody tr th {\n",
       "        vertical-align: top;\n",
       "    }\n",
       "\n",
       "    .dataframe thead th {\n",
       "        text-align: right;\n",
       "    }\n",
       "</style>\n",
       "<table border=\"1\" class=\"dataframe\">\n",
       "  <thead>\n",
       "    <tr style=\"text-align: right;\">\n",
       "      <th></th>\n",
       "      <th>user_id</th>\n",
       "      <th>billing_month</th>\n",
       "      <th>reg_date</th>\n",
       "      <th>total_minutes</th>\n",
       "      <th>minutes_included</th>\n",
       "      <th>usd_per_minute</th>\n",
       "      <th>extra_minutes</th>\n",
       "      <th>extra_charges_minutes</th>\n",
       "    </tr>\n",
       "  </thead>\n",
       "  <tbody>\n",
       "    <tr>\n",
       "      <th>9</th>\n",
       "      <td>1003</td>\n",
       "      <td>2018-12-28</td>\n",
       "      <td>2018-01-28</td>\n",
       "      <td>1041.00</td>\n",
       "      <td>500</td>\n",
       "      <td>0.03</td>\n",
       "      <td>541.00</td>\n",
       "      <td>16.2300</td>\n",
       "    </tr>\n",
       "    <tr>\n",
       "      <th>23</th>\n",
       "      <td>1007</td>\n",
       "      <td>2018-10-11</td>\n",
       "      <td>2018-07-11</td>\n",
       "      <td>610.65</td>\n",
       "      <td>500</td>\n",
       "      <td>0.03</td>\n",
       "      <td>110.65</td>\n",
       "      <td>3.3195</td>\n",
       "    </tr>\n",
       "    <tr>\n",
       "      <th>25</th>\n",
       "      <td>1007</td>\n",
       "      <td>2018-12-11</td>\n",
       "      <td>2018-07-11</td>\n",
       "      <td>579.43</td>\n",
       "      <td>500</td>\n",
       "      <td>0.03</td>\n",
       "      <td>79.43</td>\n",
       "      <td>2.3829</td>\n",
       "    </tr>\n",
       "    <tr>\n",
       "      <th>30</th>\n",
       "      <td>1009</td>\n",
       "      <td>2018-06-22</td>\n",
       "      <td>2018-04-22</td>\n",
       "      <td>775.52</td>\n",
       "      <td>500</td>\n",
       "      <td>0.03</td>\n",
       "      <td>275.52</td>\n",
       "      <td>8.2656</td>\n",
       "    </tr>\n",
       "    <tr>\n",
       "      <th>31</th>\n",
       "      <td>1009</td>\n",
       "      <td>2018-07-22</td>\n",
       "      <td>2018-04-22</td>\n",
       "      <td>826.74</td>\n",
       "      <td>500</td>\n",
       "      <td>0.03</td>\n",
       "      <td>326.74</td>\n",
       "      <td>9.8022</td>\n",
       "    </tr>\n",
       "    <tr>\n",
       "      <th>...</th>\n",
       "      <td>...</td>\n",
       "      <td>...</td>\n",
       "      <td>...</td>\n",
       "      <td>...</td>\n",
       "      <td>...</td>\n",
       "      <td>...</td>\n",
       "      <td>...</td>\n",
       "      <td>...</td>\n",
       "    </tr>\n",
       "    <tr>\n",
       "      <th>2197</th>\n",
       "      <td>1488</td>\n",
       "      <td>2018-11-15</td>\n",
       "      <td>2018-05-15</td>\n",
       "      <td>751.66</td>\n",
       "      <td>500</td>\n",
       "      <td>0.03</td>\n",
       "      <td>251.66</td>\n",
       "      <td>7.5498</td>\n",
       "    </tr>\n",
       "    <tr>\n",
       "      <th>2198</th>\n",
       "      <td>1488</td>\n",
       "      <td>2018-12-15</td>\n",
       "      <td>2018-05-15</td>\n",
       "      <td>678.14</td>\n",
       "      <td>500</td>\n",
       "      <td>0.03</td>\n",
       "      <td>178.14</td>\n",
       "      <td>5.3442</td>\n",
       "    </tr>\n",
       "    <tr>\n",
       "      <th>2215</th>\n",
       "      <td>1491</td>\n",
       "      <td>2018-10-27</td>\n",
       "      <td>2018-04-27</td>\n",
       "      <td>551.89</td>\n",
       "      <td>500</td>\n",
       "      <td>0.03</td>\n",
       "      <td>51.89</td>\n",
       "      <td>1.5567</td>\n",
       "    </tr>\n",
       "    <tr>\n",
       "      <th>2230</th>\n",
       "      <td>1494</td>\n",
       "      <td>2018-10-19</td>\n",
       "      <td>2018-04-19</td>\n",
       "      <td>585.82</td>\n",
       "      <td>500</td>\n",
       "      <td>0.03</td>\n",
       "      <td>85.82</td>\n",
       "      <td>2.5746</td>\n",
       "    </tr>\n",
       "    <tr>\n",
       "      <th>2234</th>\n",
       "      <td>1495</td>\n",
       "      <td>2018-10-04</td>\n",
       "      <td>2018-09-04</td>\n",
       "      <td>578.03</td>\n",
       "      <td>500</td>\n",
       "      <td>0.03</td>\n",
       "      <td>78.03</td>\n",
       "      <td>2.3409</td>\n",
       "    </tr>\n",
       "  </tbody>\n",
       "</table>\n",
       "<p>484 rows × 8 columns</p>\n",
       "</div>"
      ],
      "text/plain": [
       "      user_id billing_month   reg_date  total_minutes  minutes_included  \\\n",
       "9        1003    2018-12-28 2018-01-28        1041.00               500   \n",
       "23       1007    2018-10-11 2018-07-11         610.65               500   \n",
       "25       1007    2018-12-11 2018-07-11         579.43               500   \n",
       "30       1009    2018-06-22 2018-04-22         775.52               500   \n",
       "31       1009    2018-07-22 2018-04-22         826.74               500   \n",
       "...       ...           ...        ...            ...               ...   \n",
       "2197     1488    2018-11-15 2018-05-15         751.66               500   \n",
       "2198     1488    2018-12-15 2018-05-15         678.14               500   \n",
       "2215     1491    2018-10-27 2018-04-27         551.89               500   \n",
       "2230     1494    2018-10-19 2018-04-19         585.82               500   \n",
       "2234     1495    2018-10-04 2018-09-04         578.03               500   \n",
       "\n",
       "      usd_per_minute  extra_minutes  extra_charges_minutes  \n",
       "9               0.03         541.00                16.2300  \n",
       "23              0.03         110.65                 3.3195  \n",
       "25              0.03          79.43                 2.3829  \n",
       "30              0.03         275.52                 8.2656  \n",
       "31              0.03         326.74                 9.8022  \n",
       "...              ...            ...                    ...  \n",
       "2197            0.03         251.66                 7.5498  \n",
       "2198            0.03         178.14                 5.3442  \n",
       "2215            0.03          51.89                 1.5567  \n",
       "2230            0.03          85.82                 2.5746  \n",
       "2234            0.03          78.03                 2.3409  \n",
       "\n",
       "[484 rows x 8 columns]"
      ]
     },
     "execution_count": 212,
     "metadata": {},
     "output_type": "execute_result"
    }
   ],
   "source": [
    "#comprobando que haya gente que se exceda\n",
    "df_agg[df_agg.loc[:,'extra_charges_minutes'] > 0]"
   ]
  },
  {
   "cell_type": "markdown",
   "metadata": {},
   "source": [
    "Bueno, ahora es hora de obtener un total y un promedio haciendo group por user_id y ya estamos"
   ]
  },
  {
   "cell_type": "code",
   "execution_count": 213,
   "metadata": {},
   "outputs": [
    {
     "name": "stdout",
     "output_type": "stream",
     "text": [
      "     user_id  extra_minutes  extra_charges_minutes  \\\n",
      "0       1000           0.00                 0.0000   \n",
      "1       1001           0.00                 0.0000   \n",
      "2       1002           0.00                 0.0000   \n",
      "3       1003         541.00                16.2300   \n",
      "4       1004           0.00                 0.0000   \n",
      "..       ...            ...                    ...   \n",
      "476     1495          78.03                 2.3409   \n",
      "477     1496           0.00                 0.0000   \n",
      "478     1497           0.00                 0.0000   \n",
      "479     1498           0.00                 0.0000   \n",
      "480     1499           0.00                 0.0000   \n",
      "\n",
      "     avg_extra_charges_per_month_minutes  \n",
      "0                               0.000000  \n",
      "1                               0.000000  \n",
      "2                               0.000000  \n",
      "3                              16.230000  \n",
      "4                               0.000000  \n",
      "..                                   ...  \n",
      "476                             0.585225  \n",
      "477                             0.000000  \n",
      "478                             0.000000  \n",
      "479                             0.000000  \n",
      "480                             0.000000  \n",
      "\n",
      "[481 rows x 4 columns]\n"
     ]
    }
   ],
   "source": [
    "#obteniendo el total y el promedio. Visualizando al final\n",
    "df_group = df_agg.groupby('user_id').agg(\n",
    "    extra_minutes=('extra_minutes', 'sum'),\n",
    "    extra_charges_minutes =('extra_charges_minutes', 'sum'),\n",
    "    avg_extra_charges_per_month_minutes = ('extra_charges_minutes', 'mean')\n",
    ").reset_index()\n",
    "\n",
    "print(df_group)"
   ]
  },
  {
   "cell_type": "code",
   "execution_count": 214,
   "metadata": {},
   "outputs": [],
   "source": [
    "#obteniendo más métricas que nos podrían resultar útiles\n",
    "df_calls_total = dfCalls.groupby('user_id').agg(\n",
    "    latest = ('call_date','max'),\n",
    "    total_calls=('user_id', 'size'),        \n",
    "    total_minutes=('duration', 'sum')\n",
    ").reset_index()\n",
    "\n",
    "df_calls_total['promedio_minutes_por_ocasion'] = df_calls_total['total_minutes'] / df_calls_total['total_calls']\n",
    "\n",
    "df_calls_total = df_calls_total.merge(df_group,on = 'user_id',how='inner')"
   ]
  },
  {
   "cell_type": "markdown",
   "metadata": {},
   "source": [
    "Agreguemos un promedio por mes, el total de cuanto ha pagado por su plan se puede agregar al final."
   ]
  },
  {
   "cell_type": "code",
   "execution_count": 215,
   "metadata": {},
   "outputs": [
    {
     "name": "stdout",
     "output_type": "stream",
     "text": [
      "     user_id     latest  total_calls  total_minutes  \\\n",
      "0       1000 2018-12-31           16         116.83   \n",
      "1       1001 2018-12-31          261        1640.46   \n",
      "2       1002 2018-12-31          113         777.13   \n",
      "3       1003 2018-12-31          149        1041.00   \n",
      "4       1004 2018-12-30          370        2618.95   \n",
      "..       ...        ...          ...            ...   \n",
      "476     1495 2018-12-31          253        1666.41   \n",
      "477     1496 2018-12-31          195        1376.21   \n",
      "478     1497 2018-12-31           54         276.53   \n",
      "479     1498 2018-12-31          451        3029.97   \n",
      "480     1499 2018-12-31          204        1450.31   \n",
      "\n",
      "     promedio_minutes_por_ocasion  extra_minutes  extra_charges_minutes  \\\n",
      "0                        7.301875           0.00                 0.0000   \n",
      "1                        6.285287           0.00                 0.0000   \n",
      "2                        6.877257           0.00                 0.0000   \n",
      "3                        6.986577         541.00                16.2300   \n",
      "4                        7.078243           0.00                 0.0000   \n",
      "..                            ...            ...                    ...   \n",
      "476                      6.586601          78.03                 2.3409   \n",
      "477                      7.057487           0.00                 0.0000   \n",
      "478                      5.120926           0.00                 0.0000   \n",
      "479                      6.718337           0.00                 0.0000   \n",
      "480                      7.109363           0.00                 0.0000   \n",
      "\n",
      "     avg_extra_charges_per_month_minutes  \n",
      "0                               0.000000  \n",
      "1                               0.000000  \n",
      "2                               0.000000  \n",
      "3                              16.230000  \n",
      "4                               0.000000  \n",
      "..                                   ...  \n",
      "476                             0.585225  \n",
      "477                             0.000000  \n",
      "478                             0.000000  \n",
      "479                             0.000000  \n",
      "480                             0.000000  \n",
      "\n",
      "[481 rows x 8 columns]\n"
     ]
    }
   ],
   "source": [
    "#visualizando nuestro df\n",
    "print(df_calls_total)"
   ]
  },
  {
   "cell_type": "code",
   "execution_count": 216,
   "metadata": {
    "scrolled": true
   },
   "outputs": [
    {
     "name": "stdout",
     "output_type": "stream",
     "text": [
      "Unnamed: 0          137735\n",
      "id                  137735\n",
      "user_id                481\n",
      "call_date              351\n",
      "duration              2802\n",
      "minutes_included         2\n",
      "usd_per_minute           2\n",
      "reg_date               259\n",
      "billing_month          307\n",
      "dtype: int64\n"
     ]
    }
   ],
   "source": [
    "#visualizando el contenido\n",
    "print(dfCalls.nunique())\n"
   ]
  },
  {
   "cell_type": "markdown",
   "metadata": {},
   "source": [
    "Vemos que solo hay 481 user_id, para los que no esten ponemos 0 ya que no han consumido esta área. Esto se hará después del merge"
   ]
  },
  {
   "cell_type": "code",
   "execution_count": 217,
   "metadata": {
    "scrolled": true
   },
   "outputs": [
    {
     "name": "stdout",
     "output_type": "stream",
     "text": [
      "     user_id     latest  total_calls  total_minutes  \\\n",
      "0       1000 2018-12-31           16         116.83   \n",
      "1       1001 2018-12-31          261        1640.46   \n",
      "2       1002 2018-12-31          113         777.13   \n",
      "3       1003 2018-12-31          149        1041.00   \n",
      "4       1004 2018-12-30          370        2618.95   \n",
      "..       ...        ...          ...            ...   \n",
      "476     1495 2018-12-31          253        1666.41   \n",
      "477     1496 2018-12-31          195        1376.21   \n",
      "478     1497 2018-12-31           54         276.53   \n",
      "479     1498 2018-12-31          451        3029.97   \n",
      "480     1499 2018-12-31          204        1450.31   \n",
      "\n",
      "     promedio_minutes_por_ocasion  extra_minutes  extra_charges_minutes  \\\n",
      "0                        7.301875           0.00                 0.0000   \n",
      "1                        6.285287           0.00                 0.0000   \n",
      "2                        6.877257           0.00                 0.0000   \n",
      "3                        6.986577         541.00                16.2300   \n",
      "4                        7.078243           0.00                 0.0000   \n",
      "..                            ...            ...                    ...   \n",
      "476                      6.586601          78.03                 2.3409   \n",
      "477                      7.057487           0.00                 0.0000   \n",
      "478                      5.120926           0.00                 0.0000   \n",
      "479                      6.718337           0.00                 0.0000   \n",
      "480                      7.109363           0.00                 0.0000   \n",
      "\n",
      "     avg_extra_charges_per_month_minutes  \n",
      "0                               0.000000  \n",
      "1                               0.000000  \n",
      "2                               0.000000  \n",
      "3                              16.230000  \n",
      "4                               0.000000  \n",
      "..                                   ...  \n",
      "476                             0.585225  \n",
      "477                             0.000000  \n",
      "478                             0.000000  \n",
      "479                             0.000000  \n",
      "480                             0.000000  \n",
      "\n",
      "[481 rows x 8 columns]\n"
     ]
    }
   ],
   "source": [
    "#visualizando\n",
    "print(df_calls_total)"
   ]
  },
  {
   "cell_type": "markdown",
   "metadata": {},
   "source": [
    "Ahora vamos a obetener los precios de dfInternet"
   ]
  },
  {
   "cell_type": "code",
   "execution_count": 218,
   "metadata": {
    "scrolled": true
   },
   "outputs": [
    {
     "name": "stdout",
     "output_type": "stream",
     "text": [
      "Unnamed: 0      104825\n",
      "id              104825\n",
      "user_id            489\n",
      "session_date       351\n",
      "mb_used          57624\n",
      "dtype: int64\n"
     ]
    }
   ],
   "source": [
    "#viendo el contenido\n",
    "print(dfInternet.nunique())"
   ]
  },
  {
   "cell_type": "code",
   "execution_count": 219,
   "metadata": {},
   "outputs": [],
   "source": [
    "#asegurandonos que este en datetime\n",
    "dfInternet['session_date'] = pd.to_datetime(dfInternet['session_date'])"
   ]
  },
  {
   "cell_type": "code",
   "execution_count": 220,
   "metadata": {},
   "outputs": [],
   "source": [
    "#cambiando para posiblemente utiliza mb en lugar de gb (hice esto pero me parece que es mejor ir con gb)\n",
    "dfPlans['usd_per_mb'] = dfPlans['usd_per_gb'].astype(float) / 1000"
   ]
  },
  {
   "cell_type": "code",
   "execution_count": 221,
   "metadata": {
    "scrolled": false
   },
   "outputs": [
    {
     "name": "stdout",
     "output_type": "stream",
     "text": [
      "     Unnamed: 0  messages_included  mb_per_month_included  minutes_included  \\\n",
      "0             0                 50                  15360               500   \n",
      "1             0                 50                  15360               500   \n",
      "2             0                 50                  15360               500   \n",
      "3             0                 50                  15360               500   \n",
      "4             0                 50                  15360               500   \n",
      "..          ...                ...                    ...               ...   \n",
      "495           1               1000                  30720              3000   \n",
      "496           1               1000                  30720              3000   \n",
      "497           1               1000                  30720              3000   \n",
      "498           1               1000                  30720              3000   \n",
      "499           1               1000                  30720              3000   \n",
      "\n",
      "     usd_monthly_pay  usd_per_gb  usd_per_message  usd_per_minute plan_name  \\\n",
      "0                 20          10             0.03            0.03      surf   \n",
      "1                 20          10             0.03            0.03      surf   \n",
      "2                 20          10             0.03            0.03      surf   \n",
      "3                 20          10             0.03            0.03      surf   \n",
      "4                 20          10             0.03            0.03      surf   \n",
      "..               ...         ...              ...             ...       ...   \n",
      "495               70           7             0.01            0.01  ultimate   \n",
      "496               70           7             0.01            0.01  ultimate   \n",
      "497               70           7             0.01            0.01  ultimate   \n",
      "498               70           7             0.01            0.01  ultimate   \n",
      "499               70           7             0.01            0.01  ultimate   \n",
      "\n",
      "     user_id   reg_date  usd_per_mb  \n",
      "0       1001 2018-08-13       0.010  \n",
      "1       1002 2018-10-21       0.010  \n",
      "2       1003 2018-01-28       0.010  \n",
      "3       1004 2018-05-23       0.010  \n",
      "4       1005 2018-11-29       0.010  \n",
      "..       ...        ...         ...  \n",
      "495     1482 2018-01-01       0.007  \n",
      "496     1487 2018-08-16       0.007  \n",
      "497     1490 2018-01-20       0.007  \n",
      "498     1493 2018-03-06       0.007  \n",
      "499     1497 2018-12-10       0.007  \n",
      "\n",
      "[500 rows x 12 columns]\n"
     ]
    }
   ],
   "source": [
    "#visualizando\n",
    "print(dfPlans)"
   ]
  },
  {
   "cell_type": "code",
   "execution_count": 222,
   "metadata": {},
   "outputs": [
    {
     "name": "stdout",
     "output_type": "stream",
     "text": [
      "        Unnamed: 0        id  user_id session_date  mb_used\n",
      "0                0   1000_13     1000   2018-12-29    89.86\n",
      "1                1  1000_204     1000   2018-12-31     0.00\n",
      "2                2  1000_379     1000   2018-12-28   660.40\n",
      "3                3  1000_413     1000   2018-12-26   270.99\n",
      "4                4  1000_442     1000   2018-12-27   880.22\n",
      "...            ...       ...      ...          ...      ...\n",
      "104820      104820  1499_215     1499   2018-10-20   218.06\n",
      "104821      104821  1499_216     1499   2018-12-30   304.72\n",
      "104822      104822  1499_217     1499   2018-09-22   292.75\n",
      "104823      104823  1499_218     1499   2018-12-07     0.00\n",
      "104824      104824  1499_219     1499   2018-12-24   758.31\n",
      "\n",
      "[104825 rows x 5 columns]\n"
     ]
    }
   ],
   "source": [
    "#visualizando\n",
    "print(dfInternet)"
   ]
  },
  {
   "cell_type": "code",
   "execution_count": 223,
   "metadata": {},
   "outputs": [],
   "source": [
    "#uniendo los datos para obtener el valor y asi sacar el costo\n",
    "dfInternet = dfInternet.merge(dfPlans[['user_id','mb_per_month_included','usd_per_gb','reg_date']], on='user_id', how='inner')"
   ]
  },
  {
   "cell_type": "code",
   "execution_count": 224,
   "metadata": {},
   "outputs": [
    {
     "name": "stdout",
     "output_type": "stream",
     "text": [
      "        Unnamed: 0        id  user_id session_date  mb_used  \\\n",
      "0                0   1000_13     1000   2018-12-29    89.86   \n",
      "1                1  1000_204     1000   2018-12-31     0.00   \n",
      "2                2  1000_379     1000   2018-12-28   660.40   \n",
      "3                3  1000_413     1000   2018-12-26   270.99   \n",
      "4                4  1000_442     1000   2018-12-27   880.22   \n",
      "...            ...       ...      ...          ...      ...   \n",
      "104820      104820  1499_215     1499   2018-10-20   218.06   \n",
      "104821      104821  1499_216     1499   2018-12-30   304.72   \n",
      "104822      104822  1499_217     1499   2018-09-22   292.75   \n",
      "104823      104823  1499_218     1499   2018-12-07     0.00   \n",
      "104824      104824  1499_219     1499   2018-12-24   758.31   \n",
      "\n",
      "        mb_per_month_included  usd_per_gb   reg_date  \n",
      "0                       30720           7 2018-12-24  \n",
      "1                       30720           7 2018-12-24  \n",
      "2                       30720           7 2018-12-24  \n",
      "3                       30720           7 2018-12-24  \n",
      "4                       30720           7 2018-12-24  \n",
      "...                       ...         ...        ...  \n",
      "104820                  15360          10 2018-05-06  \n",
      "104821                  15360          10 2018-05-06  \n",
      "104822                  15360          10 2018-05-06  \n",
      "104823                  15360          10 2018-05-06  \n",
      "104824                  15360          10 2018-05-06  \n",
      "\n",
      "[104825 rows x 8 columns]\n"
     ]
    }
   ],
   "source": [
    "#visualizando\n",
    "print(dfInternet)"
   ]
  },
  {
   "cell_type": "code",
   "execution_count": 225,
   "metadata": {},
   "outputs": [],
   "source": [
    "#obteniendo más métricas que nos podrían resultar útiles\n",
    "dfInternet[\"billing_month\"] = dfInternet.apply(lambda row: get_billing_month(row[\"reg_date\"], row[\"session_date\"]), axis=1)\n",
    "\n",
    "df_agg = dfInternet.groupby([\"user_id\", \"billing_month\"]).agg(\n",
    "    reg_date=(\"reg_date\", \"first\"),\n",
    "    total_mb=(\"mb_used\", \"sum\"),\n",
    "    mb_included=(\"mb_per_month_included\", \"first\"),\n",
    "    usd_per_gb=(\"usd_per_gb\", \"first\")\n",
    ").reset_index()\n",
    "\n",
    "df_agg[\"extra_mb\"] = np.maximum(df_agg[\"total_mb\"] - df_agg[\"mb_included\"], 0)\n",
    "\n",
    "\n",
    "df_agg[\"extra_charges_gb\"] = (np.ceil(df_agg[\"extra_mb\"] / 1000) * df_agg[\"usd_per_gb\"])\n"
   ]
  },
  {
   "cell_type": "code",
   "execution_count": 226,
   "metadata": {},
   "outputs": [
    {
     "data": {
      "text/html": [
       "<div>\n",
       "<style scoped>\n",
       "    .dataframe tbody tr th:only-of-type {\n",
       "        vertical-align: middle;\n",
       "    }\n",
       "\n",
       "    .dataframe tbody tr th {\n",
       "        vertical-align: top;\n",
       "    }\n",
       "\n",
       "    .dataframe thead th {\n",
       "        text-align: right;\n",
       "    }\n",
       "</style>\n",
       "<table border=\"1\" class=\"dataframe\">\n",
       "  <thead>\n",
       "    <tr style=\"text-align: right;\">\n",
       "      <th></th>\n",
       "      <th>user_id</th>\n",
       "      <th>billing_month</th>\n",
       "      <th>reg_date</th>\n",
       "      <th>total_mb</th>\n",
       "      <th>mb_included</th>\n",
       "      <th>usd_per_gb</th>\n",
       "      <th>extra_mb</th>\n",
       "      <th>extra_charges_gb</th>\n",
       "    </tr>\n",
       "  </thead>\n",
       "  <tbody>\n",
       "    <tr>\n",
       "      <th>3</th>\n",
       "      <td>1001</td>\n",
       "      <td>2018-10-13</td>\n",
       "      <td>2018-08-13</td>\n",
       "      <td>22330.49</td>\n",
       "      <td>15360</td>\n",
       "      <td>10</td>\n",
       "      <td>6970.49</td>\n",
       "      <td>70.0</td>\n",
       "    </tr>\n",
       "    <tr>\n",
       "      <th>4</th>\n",
       "      <td>1001</td>\n",
       "      <td>2018-11-13</td>\n",
       "      <td>2018-08-13</td>\n",
       "      <td>18504.30</td>\n",
       "      <td>15360</td>\n",
       "      <td>10</td>\n",
       "      <td>3144.30</td>\n",
       "      <td>40.0</td>\n",
       "    </tr>\n",
       "    <tr>\n",
       "      <th>5</th>\n",
       "      <td>1001</td>\n",
       "      <td>2018-12-13</td>\n",
       "      <td>2018-08-13</td>\n",
       "      <td>19369.18</td>\n",
       "      <td>15360</td>\n",
       "      <td>10</td>\n",
       "      <td>4009.18</td>\n",
       "      <td>50.0</td>\n",
       "    </tr>\n",
       "    <tr>\n",
       "      <th>7</th>\n",
       "      <td>1002</td>\n",
       "      <td>2018-11-21</td>\n",
       "      <td>2018-10-21</td>\n",
       "      <td>19345.08</td>\n",
       "      <td>15360</td>\n",
       "      <td>10</td>\n",
       "      <td>3985.08</td>\n",
       "      <td>40.0</td>\n",
       "    </tr>\n",
       "    <tr>\n",
       "      <th>9</th>\n",
       "      <td>1003</td>\n",
       "      <td>2018-12-28</td>\n",
       "      <td>2018-01-28</td>\n",
       "      <td>27044.14</td>\n",
       "      <td>15360</td>\n",
       "      <td>10</td>\n",
       "      <td>11684.14</td>\n",
       "      <td>120.0</td>\n",
       "    </tr>\n",
       "    <tr>\n",
       "      <th>...</th>\n",
       "      <td>...</td>\n",
       "      <td>...</td>\n",
       "      <td>...</td>\n",
       "      <td>...</td>\n",
       "      <td>...</td>\n",
       "      <td>...</td>\n",
       "      <td>...</td>\n",
       "      <td>...</td>\n",
       "    </tr>\n",
       "    <tr>\n",
       "      <th>2271</th>\n",
       "      <td>1498</td>\n",
       "      <td>2018-11-04</td>\n",
       "      <td>2018-02-04</td>\n",
       "      <td>19168.55</td>\n",
       "      <td>15360</td>\n",
       "      <td>10</td>\n",
       "      <td>3808.55</td>\n",
       "      <td>40.0</td>\n",
       "    </tr>\n",
       "    <tr>\n",
       "      <th>2272</th>\n",
       "      <td>1498</td>\n",
       "      <td>2018-12-04</td>\n",
       "      <td>2018-02-04</td>\n",
       "      <td>23137.69</td>\n",
       "      <td>15360</td>\n",
       "      <td>10</td>\n",
       "      <td>7777.69</td>\n",
       "      <td>80.0</td>\n",
       "    </tr>\n",
       "    <tr>\n",
       "      <th>2274</th>\n",
       "      <td>1499</td>\n",
       "      <td>2018-10-06</td>\n",
       "      <td>2018-05-06</td>\n",
       "      <td>19492.43</td>\n",
       "      <td>15360</td>\n",
       "      <td>10</td>\n",
       "      <td>4132.43</td>\n",
       "      <td>50.0</td>\n",
       "    </tr>\n",
       "    <tr>\n",
       "      <th>2275</th>\n",
       "      <td>1499</td>\n",
       "      <td>2018-11-06</td>\n",
       "      <td>2018-05-06</td>\n",
       "      <td>16813.83</td>\n",
       "      <td>15360</td>\n",
       "      <td>10</td>\n",
       "      <td>1453.83</td>\n",
       "      <td>20.0</td>\n",
       "    </tr>\n",
       "    <tr>\n",
       "      <th>2276</th>\n",
       "      <td>1499</td>\n",
       "      <td>2018-12-06</td>\n",
       "      <td>2018-05-06</td>\n",
       "      <td>22059.21</td>\n",
       "      <td>15360</td>\n",
       "      <td>10</td>\n",
       "      <td>6699.21</td>\n",
       "      <td>70.0</td>\n",
       "    </tr>\n",
       "  </tbody>\n",
       "</table>\n",
       "<p>952 rows × 8 columns</p>\n",
       "</div>"
      ],
      "text/plain": [
       "      user_id billing_month   reg_date  total_mb  mb_included  usd_per_gb  \\\n",
       "3        1001    2018-10-13 2018-08-13  22330.49        15360          10   \n",
       "4        1001    2018-11-13 2018-08-13  18504.30        15360          10   \n",
       "5        1001    2018-12-13 2018-08-13  19369.18        15360          10   \n",
       "7        1002    2018-11-21 2018-10-21  19345.08        15360          10   \n",
       "9        1003    2018-12-28 2018-01-28  27044.14        15360          10   \n",
       "...       ...           ...        ...       ...          ...         ...   \n",
       "2271     1498    2018-11-04 2018-02-04  19168.55        15360          10   \n",
       "2272     1498    2018-12-04 2018-02-04  23137.69        15360          10   \n",
       "2274     1499    2018-10-06 2018-05-06  19492.43        15360          10   \n",
       "2275     1499    2018-11-06 2018-05-06  16813.83        15360          10   \n",
       "2276     1499    2018-12-06 2018-05-06  22059.21        15360          10   \n",
       "\n",
       "      extra_mb  extra_charges_gb  \n",
       "3      6970.49              70.0  \n",
       "4      3144.30              40.0  \n",
       "5      4009.18              50.0  \n",
       "7      3985.08              40.0  \n",
       "9     11684.14             120.0  \n",
       "...        ...               ...  \n",
       "2271   3808.55              40.0  \n",
       "2272   7777.69              80.0  \n",
       "2274   4132.43              50.0  \n",
       "2275   1453.83              20.0  \n",
       "2276   6699.21              70.0  \n",
       "\n",
       "[952 rows x 8 columns]"
      ]
     },
     "execution_count": 226,
     "metadata": {},
     "output_type": "execute_result"
    }
   ],
   "source": [
    "#revisando que haya gente que se haya exedido\n",
    "df_agg[df_agg.loc[:,'extra_charges_gb'] > 0]"
   ]
  },
  {
   "cell_type": "markdown",
   "metadata": {},
   "source": [
    "Hay gente que se a excedido, ahora es hora de obtener un total haciendo group por user_id y ya estamos"
   ]
  },
  {
   "cell_type": "code",
   "execution_count": 227,
   "metadata": {},
   "outputs": [
    {
     "data": {
      "text/html": [
       "<div>\n",
       "<style scoped>\n",
       "    .dataframe tbody tr th:only-of-type {\n",
       "        vertical-align: middle;\n",
       "    }\n",
       "\n",
       "    .dataframe tbody tr th {\n",
       "        vertical-align: top;\n",
       "    }\n",
       "\n",
       "    .dataframe thead th {\n",
       "        text-align: right;\n",
       "    }\n",
       "</style>\n",
       "<table border=\"1\" class=\"dataframe\">\n",
       "  <thead>\n",
       "    <tr style=\"text-align: right;\">\n",
       "      <th></th>\n",
       "      <th>user_id</th>\n",
       "      <th>extra_mb</th>\n",
       "      <th>extra_charges_gb</th>\n",
       "      <th>avg_extra_charges_per_month_gb</th>\n",
       "    </tr>\n",
       "  </thead>\n",
       "  <tbody>\n",
       "    <tr>\n",
       "      <th>0</th>\n",
       "      <td>1000</td>\n",
       "      <td>0.00</td>\n",
       "      <td>0.0</td>\n",
       "      <td>0.000000</td>\n",
       "    </tr>\n",
       "    <tr>\n",
       "      <th>1</th>\n",
       "      <td>1001</td>\n",
       "      <td>14123.97</td>\n",
       "      <td>160.0</td>\n",
       "      <td>32.000000</td>\n",
       "    </tr>\n",
       "    <tr>\n",
       "      <th>2</th>\n",
       "      <td>1002</td>\n",
       "      <td>3985.08</td>\n",
       "      <td>40.0</td>\n",
       "      <td>13.333333</td>\n",
       "    </tr>\n",
       "    <tr>\n",
       "      <th>3</th>\n",
       "      <td>1003</td>\n",
       "      <td>11684.14</td>\n",
       "      <td>120.0</td>\n",
       "      <td>120.000000</td>\n",
       "    </tr>\n",
       "    <tr>\n",
       "      <th>4</th>\n",
       "      <td>1004</td>\n",
       "      <td>43103.97</td>\n",
       "      <td>470.0</td>\n",
       "      <td>58.750000</td>\n",
       "    </tr>\n",
       "    <tr>\n",
       "      <th>...</th>\n",
       "      <td>...</td>\n",
       "      <td>...</td>\n",
       "      <td>...</td>\n",
       "      <td>...</td>\n",
       "    </tr>\n",
       "    <tr>\n",
       "      <th>484</th>\n",
       "      <td>1495</td>\n",
       "      <td>37450.96</td>\n",
       "      <td>390.0</td>\n",
       "      <td>97.500000</td>\n",
       "    </tr>\n",
       "    <tr>\n",
       "      <th>485</th>\n",
       "      <td>1496</td>\n",
       "      <td>2108.26</td>\n",
       "      <td>40.0</td>\n",
       "      <td>8.000000</td>\n",
       "    </tr>\n",
       "    <tr>\n",
       "      <th>486</th>\n",
       "      <td>1497</td>\n",
       "      <td>0.00</td>\n",
       "      <td>0.0</td>\n",
       "      <td>0.000000</td>\n",
       "    </tr>\n",
       "    <tr>\n",
       "      <th>487</th>\n",
       "      <td>1498</td>\n",
       "      <td>59117.95</td>\n",
       "      <td>640.0</td>\n",
       "      <td>58.181818</td>\n",
       "    </tr>\n",
       "    <tr>\n",
       "      <th>488</th>\n",
       "      <td>1499</td>\n",
       "      <td>12285.47</td>\n",
       "      <td>140.0</td>\n",
       "      <td>35.000000</td>\n",
       "    </tr>\n",
       "  </tbody>\n",
       "</table>\n",
       "<p>489 rows × 4 columns</p>\n",
       "</div>"
      ],
      "text/plain": [
       "     user_id  extra_mb  extra_charges_gb  avg_extra_charges_per_month_gb\n",
       "0       1000      0.00               0.0                        0.000000\n",
       "1       1001  14123.97             160.0                       32.000000\n",
       "2       1002   3985.08              40.0                       13.333333\n",
       "3       1003  11684.14             120.0                      120.000000\n",
       "4       1004  43103.97             470.0                       58.750000\n",
       "..       ...       ...               ...                             ...\n",
       "484     1495  37450.96             390.0                       97.500000\n",
       "485     1496   2108.26              40.0                        8.000000\n",
       "486     1497      0.00               0.0                        0.000000\n",
       "487     1498  59117.95             640.0                       58.181818\n",
       "488     1499  12285.47             140.0                       35.000000\n",
       "\n",
       "[489 rows x 4 columns]"
      ]
     },
     "execution_count": 227,
     "metadata": {},
     "output_type": "execute_result"
    }
   ],
   "source": [
    "#agrupando y obteniendo valores que me interesan\n",
    "df_group = df_agg.groupby('user_id').agg(\n",
    "    extra_mb=('extra_mb', 'sum'),\n",
    "    extra_charges_gb =('extra_charges_gb', 'sum'),\n",
    "    avg_extra_charges_per_month_gb = ('extra_charges_gb', 'mean')\n",
    "\n",
    ").reset_index()\n",
    "\n",
    "df_group"
   ]
  },
  {
   "cell_type": "code",
   "execution_count": 228,
   "metadata": {},
   "outputs": [],
   "source": [
    "#obteniendo la tabla final de internet que vamo a utiliza\n",
    "df_internet_total = dfInternet.groupby('user_id').agg(\n",
    "    total_internet=('user_id', 'size'),        \n",
    "    total_mb=('mb_used', 'sum'),\n",
    "    latest = ('session_date','max')\n",
    ").reset_index()\n",
    "\n",
    "df_internet_total['promedio_mb_por_ocasion'] = df_internet_total['total_mb'] / df_internet_total['total_internet']\n",
    "\n",
    "df_internet_total = df_internet_total.merge(df_group,on = 'user_id',how='inner')"
   ]
  },
  {
   "cell_type": "code",
   "execution_count": 229,
   "metadata": {
    "scrolled": true
   },
   "outputs": [
    {
     "name": "stdout",
     "output_type": "stream",
     "text": [
      "     user_id  total_internet   total_mb     latest  promedio_mb_por_ocasion  \\\n",
      "0       1000               5    1901.47 2018-12-31               380.294000   \n",
      "1       1001             245   80437.94 2018-12-31               328.318122   \n",
      "2       1002             124   40293.33 2018-12-31               324.946210   \n",
      "3       1003              52   27044.14 2018-12-31               520.079615   \n",
      "4       1004             460  156352.81 2018-12-31               339.897413   \n",
      "..       ...             ...        ...        ...                      ...   \n",
      "484     1495             290   98890.96 2018-12-31               341.003310   \n",
      "485     1496             225   64268.64 2018-12-31               285.638400   \n",
      "486     1497              31   11106.55 2018-12-30               358.275806   \n",
      "487     1498             657  227525.13 2018-12-31               346.309178   \n",
      "488     1499             220   71350.23 2018-12-31               324.319227   \n",
      "\n",
      "     extra_mb  extra_charges_gb  avg_extra_charges_per_month_gb  \n",
      "0        0.00               0.0                        0.000000  \n",
      "1    14123.97             160.0                       32.000000  \n",
      "2     3985.08              40.0                       13.333333  \n",
      "3    11684.14             120.0                      120.000000  \n",
      "4    43103.97             470.0                       58.750000  \n",
      "..        ...               ...                             ...  \n",
      "484  37450.96             390.0                       97.500000  \n",
      "485   2108.26              40.0                        8.000000  \n",
      "486      0.00               0.0                        0.000000  \n",
      "487  59117.95             640.0                       58.181818  \n",
      "488  12285.47             140.0                       35.000000  \n",
      "\n",
      "[489 rows x 8 columns]\n"
     ]
    }
   ],
   "source": [
    "#visualizando\n",
    "print(df_internet_total)"
   ]
  },
  {
   "cell_type": "markdown",
   "metadata": {},
   "source": [
    "Ahora vamos por dfMessages"
   ]
  },
  {
   "cell_type": "code",
   "execution_count": 230,
   "metadata": {
    "scrolled": true
   },
   "outputs": [
    {
     "name": "stdout",
     "output_type": "stream",
     "text": [
      "Unnamed: 0      76051\n",
      "id              76051\n",
      "user_id           402\n",
      "message_date      351\n",
      "dtype: int64\n"
     ]
    }
   ],
   "source": [
    "#visualizando\n",
    "print(dfMessages.nunique())"
   ]
  },
  {
   "cell_type": "code",
   "execution_count": 231,
   "metadata": {},
   "outputs": [],
   "source": [
    "#asegurandonos que esten en datetime\n",
    "dfMessages['message_date'] = pd.to_datetime(dfMessages['message_date'])"
   ]
  },
  {
   "cell_type": "code",
   "execution_count": 232,
   "metadata": {},
   "outputs": [],
   "source": [
    "#uniendo para obtener el costo\n",
    "dfMessages = dfMessages.merge(dfPlans[['user_id','messages_included','usd_per_message','reg_date']], on='user_id', how='inner')"
   ]
  },
  {
   "cell_type": "code",
   "execution_count": 233,
   "metadata": {},
   "outputs": [],
   "source": [
    "#obteniendo los valores que nos interesan\n",
    "dfMessages[\"billing_month\"] = dfMessages.apply(lambda row: get_billing_month(row[\"reg_date\"], row[\"message_date\"]), axis=1)\n",
    "\n",
    "df_agg = dfMessages.groupby([\"user_id\", \"billing_month\"]).agg(\n",
    "    reg_date=(\"reg_date\", \"first\"),\n",
    "    total_messages=(\"message_date\", \"count\"),\n",
    "    messages_included=(\"messages_included\", \"first\"),\n",
    "    usd_per_message=(\"usd_per_message\", \"first\")\n",
    ").reset_index()\n",
    "\n",
    "df_agg[\"extra_messages\"] = np.maximum(df_agg[\"total_messages\"] - df_agg[\"messages_included\"], 0)\n",
    "df_agg[\"extra_charges_messages\"] = df_agg[\"extra_messages\"] * df_agg[\"usd_per_message\"]"
   ]
  },
  {
   "cell_type": "code",
   "execution_count": 234,
   "metadata": {},
   "outputs": [
    {
     "name": "stdout",
     "output_type": "stream",
     "text": [
      "      user_id billing_month   reg_date  total_messages  messages_included  \\\n",
      "3        1001    2018-10-13 2018-08-13              53                 50   \n",
      "21       1007    2018-08-11 2018-07-11              51                 50   \n",
      "23       1007    2018-10-11 2018-07-11              59                 50   \n",
      "38       1014    2018-12-25 2018-11-25              64                 50   \n",
      "39       1015    2018-12-05 2018-12-05              68                 50   \n",
      "...       ...           ...        ...             ...                ...   \n",
      "1779     1489    2018-11-24 2018-05-24              91                 50   \n",
      "1780     1489    2018-12-24 2018-05-24              86                 50   \n",
      "1783     1491    2018-06-27 2018-04-27              54                 50   \n",
      "1784     1491    2018-07-27 2018-04-27              64                 50   \n",
      "1787     1491    2018-10-27 2018-04-27              51                 50   \n",
      "\n",
      "      usd_per_message  extra_messages  extra_charges_messages  \n",
      "3                0.03               3                    0.09  \n",
      "21               0.03               1                    0.03  \n",
      "23               0.03               9                    0.27  \n",
      "38               0.03              14                    0.42  \n",
      "39               0.03              18                    0.54  \n",
      "...               ...             ...                     ...  \n",
      "1779             0.03              41                    1.23  \n",
      "1780             0.03              36                    1.08  \n",
      "1783             0.03               4                    0.12  \n",
      "1784             0.03              14                    0.42  \n",
      "1787             0.03               1                    0.03  \n",
      "\n",
      "[340 rows x 8 columns]\n"
     ]
    }
   ],
   "source": [
    "#viendo si gente se ha excedido\n",
    "print(df_agg[df_agg.loc[:,'extra_charges_messages'] > 0])"
   ]
  },
  {
   "cell_type": "markdown",
   "metadata": {},
   "source": [
    "Hay gente que se ha excedido, ahora es hora de obtener un total haciendo group por user_id y ya estamos"
   ]
  },
  {
   "cell_type": "code",
   "execution_count": 235,
   "metadata": {
    "scrolled": true
   },
   "outputs": [
    {
     "name": "stdout",
     "output_type": "stream",
     "text": [
      "     user_id  extra_messages  extra_charges_messages  \\\n",
      "0       1000               0                    0.00   \n",
      "1       1001               3                    0.09   \n",
      "2       1002               0                    0.00   \n",
      "3       1003               0                    0.00   \n",
      "4       1004               0                    0.00   \n",
      "..       ...             ...                     ...   \n",
      "397     1491              19                    0.57   \n",
      "398     1492               0                    0.00   \n",
      "399     1494               0                    0.00   \n",
      "400     1496               0                    0.00   \n",
      "401     1497               0                    0.00   \n",
      "\n",
      "     avg_extra_charges_per_month_messages  \n",
      "0                                0.000000  \n",
      "1                                0.018000  \n",
      "2                                0.000000  \n",
      "3                                0.000000  \n",
      "4                                0.000000  \n",
      "..                                    ...  \n",
      "397                              0.063333  \n",
      "398                              0.000000  \n",
      "399                              0.000000  \n",
      "400                              0.000000  \n",
      "401                              0.000000  \n",
      "\n",
      "[402 rows x 4 columns]\n"
     ]
    }
   ],
   "source": [
    "#obteniendo columnas sobre el extra individual y visualizando\n",
    "df_group = df_agg.groupby('user_id').agg(\n",
    "    extra_messages=('extra_messages', 'sum'),\n",
    "    extra_charges_messages =('extra_charges_messages', 'sum'),\n",
    "    avg_extra_charges_per_month_messages = ('extra_charges_messages', 'mean')\n",
    "\n",
    ").reset_index()\n",
    "\n",
    "print(df_group)"
   ]
  },
  {
   "cell_type": "code",
   "execution_count": 236,
   "metadata": {},
   "outputs": [
    {
     "name": "stdout",
     "output_type": "stream",
     "text": [
      "       Unnamed: 0        id  user_id message_date  messages_included  \\\n",
      "0               0  1000_125     1000   2018-12-27               1000   \n",
      "1               1  1000_160     1000   2018-12-31               1000   \n",
      "2               2  1000_223     1000   2018-12-31               1000   \n",
      "3               3  1000_251     1000   2018-12-27               1000   \n",
      "4               4  1000_255     1000   2018-12-26               1000   \n",
      "...           ...       ...      ...          ...                ...   \n",
      "76046       76046  1497_526     1497   2018-12-24               1000   \n",
      "76047       76047  1497_536     1497   2018-12-24               1000   \n",
      "76048       76048  1497_547     1497   2018-12-31               1000   \n",
      "76049       76049  1497_558     1497   2018-12-24               1000   \n",
      "76050       76050  1497_613     1497   2018-12-23               1000   \n",
      "\n",
      "       usd_per_message   reg_date billing_month  \n",
      "0                 0.01 2018-12-24    2018-12-24  \n",
      "1                 0.01 2018-12-24    2018-12-24  \n",
      "2                 0.01 2018-12-24    2018-12-24  \n",
      "3                 0.01 2018-12-24    2018-12-24  \n",
      "4                 0.01 2018-12-24    2018-12-24  \n",
      "...                ...        ...           ...  \n",
      "76046             0.01 2018-12-10    2018-12-10  \n",
      "76047             0.01 2018-12-10    2018-12-10  \n",
      "76048             0.01 2018-12-10    2018-12-10  \n",
      "76049             0.01 2018-12-10    2018-12-10  \n",
      "76050             0.01 2018-12-10    2018-12-10  \n",
      "\n",
      "[76051 rows x 8 columns]\n"
     ]
    }
   ],
   "source": [
    "#visualizando\n",
    "print(dfMessages)"
   ]
  },
  {
   "cell_type": "code",
   "execution_count": 237,
   "metadata": {},
   "outputs": [],
   "source": [
    "#obteniendo la tabla final que vamos a utilizar\n",
    "df_messages_total = dfMessages.groupby('user_id').agg(\n",
    "    total_messages=('message_date', 'count'),\n",
    "    latest = ('message_date','max')\n",
    ").reset_index()\n",
    "\n",
    "df_messages_total = df_messages_total.merge(df_group,on = 'user_id',how='inner')"
   ]
  },
  {
   "cell_type": "code",
   "execution_count": 238,
   "metadata": {
    "scrolled": false
   },
   "outputs": [
    {
     "name": "stdout",
     "output_type": "stream",
     "text": [
      "     user_id  total_messages     latest  extra_messages  \\\n",
      "0       1000              11 2018-12-31               0   \n",
      "1       1001             207 2018-12-30               3   \n",
      "2       1002              88 2018-12-31               0   \n",
      "3       1003              50 2018-12-31               0   \n",
      "4       1004             177 2018-12-30               0   \n",
      "..       ...             ...        ...             ...   \n",
      "397     1491             409 2018-12-31              19   \n",
      "398     1492             108 2018-12-31               0   \n",
      "399     1494             174 2018-12-31               0   \n",
      "400     1496              65 2018-12-30               0   \n",
      "401     1497              50 2018-12-31               0   \n",
      "\n",
      "     extra_charges_messages  avg_extra_charges_per_month_messages  \n",
      "0                      0.00                              0.000000  \n",
      "1                      0.09                              0.018000  \n",
      "2                      0.00                              0.000000  \n",
      "3                      0.00                              0.000000  \n",
      "4                      0.00                              0.000000  \n",
      "..                      ...                                   ...  \n",
      "397                    0.57                              0.063333  \n",
      "398                    0.00                              0.000000  \n",
      "399                    0.00                              0.000000  \n",
      "400                    0.00                              0.000000  \n",
      "401                    0.00                              0.000000  \n",
      "\n",
      "[402 rows x 6 columns]\n"
     ]
    }
   ],
   "source": [
    "#visualizando\n",
    "print(df_messages_total)"
   ]
  },
  {
   "cell_type": "code",
   "execution_count": 239,
   "metadata": {},
   "outputs": [],
   "source": [
    "#obteniendo la union de calls internet y messages. Usando outer para que entren los que estan en una pero no en otra\n",
    "df_ci = df_calls_total.merge(df_internet_total,how='outer',on = 'user_id')\n",
    "\n",
    "df_ci['latest'] = df_ci[['latest_x', 'latest_y']].max(axis=1)\n",
    "\n",
    "df_ci = df_ci.drop(columns=['latest_x', 'latest_y'])\n",
    "\n",
    "df_cim = df_ci.merge(df_messages_total,how='outer',on = 'user_id')\n",
    "\n",
    "df_cim['latest'] = df_cim[['latest_x', 'latest_y']].max(axis=1)\n",
    "\n",
    "df_cim = df_cim.drop(columns=['latest_x', 'latest_y'])\n"
   ]
  },
  {
   "cell_type": "code",
   "execution_count": 240,
   "metadata": {},
   "outputs": [
    {
     "name": "stdout",
     "output_type": "stream",
     "text": [
      "     user_id  total_calls  total_minutes  promedio_minutes_por_ocasion  \\\n",
      "0       1000         16.0         116.83                      7.301875   \n",
      "1       1001        261.0        1640.46                      6.285287   \n",
      "2       1002        113.0         777.13                      6.877257   \n",
      "3       1003        149.0        1041.00                      6.986577   \n",
      "4       1004        370.0        2618.95                      7.078243   \n",
      "..       ...          ...            ...                           ...   \n",
      "485     1495        253.0        1666.41                      6.586601   \n",
      "486     1496        195.0        1376.21                      7.057487   \n",
      "487     1497         54.0         276.53                      5.120926   \n",
      "488     1498        451.0        3029.97                      6.718337   \n",
      "489     1499        204.0        1450.31                      7.109363   \n",
      "\n",
      "     extra_minutes  extra_charges_minutes  \\\n",
      "0             0.00                 0.0000   \n",
      "1             0.00                 0.0000   \n",
      "2             0.00                 0.0000   \n",
      "3           541.00                16.2300   \n",
      "4             0.00                 0.0000   \n",
      "..             ...                    ...   \n",
      "485          78.03                 2.3409   \n",
      "486           0.00                 0.0000   \n",
      "487           0.00                 0.0000   \n",
      "488           0.00                 0.0000   \n",
      "489           0.00                 0.0000   \n",
      "\n",
      "     avg_extra_charges_per_month_minutes  total_internet   total_mb  \\\n",
      "0                               0.000000             5.0    1901.47   \n",
      "1                               0.000000           245.0   80437.94   \n",
      "2                               0.000000           124.0   40293.33   \n",
      "3                              16.230000            52.0   27044.14   \n",
      "4                               0.000000           460.0  156352.81   \n",
      "..                                   ...             ...        ...   \n",
      "485                             0.585225           290.0   98890.96   \n",
      "486                             0.000000           225.0   64268.64   \n",
      "487                             0.000000            31.0   11106.55   \n",
      "488                             0.000000           657.0  227525.13   \n",
      "489                             0.000000           220.0   71350.23   \n",
      "\n",
      "     promedio_mb_por_ocasion  extra_mb  extra_charges_gb  \\\n",
      "0                 380.294000      0.00               0.0   \n",
      "1                 328.318122  14123.97             160.0   \n",
      "2                 324.946210   3985.08              40.0   \n",
      "3                 520.079615  11684.14             120.0   \n",
      "4                 339.897413  43103.97             470.0   \n",
      "..                       ...       ...               ...   \n",
      "485               341.003310  37450.96             390.0   \n",
      "486               285.638400   2108.26              40.0   \n",
      "487               358.275806      0.00               0.0   \n",
      "488               346.309178  59117.95             640.0   \n",
      "489               324.319227  12285.47             140.0   \n",
      "\n",
      "     avg_extra_charges_per_month_gb  total_messages  extra_messages  \\\n",
      "0                          0.000000            11.0             0.0   \n",
      "1                         32.000000           207.0             3.0   \n",
      "2                         13.333333            88.0             0.0   \n",
      "3                        120.000000            50.0             0.0   \n",
      "4                         58.750000           177.0             0.0   \n",
      "..                              ...             ...             ...   \n",
      "485                       97.500000             NaN             NaN   \n",
      "486                        8.000000            65.0             0.0   \n",
      "487                        0.000000            50.0             0.0   \n",
      "488                       58.181818             NaN             NaN   \n",
      "489                       35.000000             NaN             NaN   \n",
      "\n",
      "     extra_charges_messages  avg_extra_charges_per_month_messages     latest  \n",
      "0                      0.00                                 0.000 2018-12-31  \n",
      "1                      0.09                                 0.018 2018-12-31  \n",
      "2                      0.00                                 0.000 2018-12-31  \n",
      "3                      0.00                                 0.000 2018-12-31  \n",
      "4                      0.00                                 0.000 2018-12-31  \n",
      "..                      ...                                   ...        ...  \n",
      "485                     NaN                                   NaN 2018-12-31  \n",
      "486                    0.00                                 0.000 2018-12-31  \n",
      "487                    0.00                                 0.000 2018-12-31  \n",
      "488                     NaN                                   NaN 2018-12-31  \n",
      "489                     NaN                                   NaN 2018-12-31  \n",
      "\n",
      "[490 rows x 18 columns]\n"
     ]
    }
   ],
   "source": [
    "#visualizando\n",
    "print(df_cim)"
   ]
  },
  {
   "cell_type": "code",
   "execution_count": 241,
   "metadata": {},
   "outputs": [],
   "source": [
    "#primero hallar cual de los 3 latest es el mayor y de ahi hacer el fill_na\n",
    "df_cim.fillna(0,inplace=True) "
   ]
  },
  {
   "cell_type": "code",
   "execution_count": 242,
   "metadata": {},
   "outputs": [
    {
     "name": "stdout",
     "output_type": "stream",
     "text": [
      "(490, 18)\n"
     ]
    }
   ],
   "source": [
    "#viendo cuanta gente hay\n",
    "print(df_cim.shape)"
   ]
  },
  {
   "cell_type": "code",
   "execution_count": 243,
   "metadata": {},
   "outputs": [
    {
     "name": "stdout",
     "output_type": "stream",
     "text": [
      "     user_id  total_calls  total_minutes  promedio_minutes_por_ocasion  \\\n",
      "0       1000         16.0         116.83                      7.301875   \n",
      "1       1001        261.0        1640.46                      6.285287   \n",
      "2       1002        113.0         777.13                      6.877257   \n",
      "3       1003        149.0        1041.00                      6.986577   \n",
      "4       1004        370.0        2618.95                      7.078243   \n",
      "..       ...          ...            ...                           ...   \n",
      "485     1495        253.0        1666.41                      6.586601   \n",
      "486     1496        195.0        1376.21                      7.057487   \n",
      "487     1497         54.0         276.53                      5.120926   \n",
      "488     1498        451.0        3029.97                      6.718337   \n",
      "489     1499        204.0        1450.31                      7.109363   \n",
      "\n",
      "     extra_minutes  extra_charges_minutes  \\\n",
      "0             0.00                 0.0000   \n",
      "1             0.00                 0.0000   \n",
      "2             0.00                 0.0000   \n",
      "3           541.00                16.2300   \n",
      "4             0.00                 0.0000   \n",
      "..             ...                    ...   \n",
      "485          78.03                 2.3409   \n",
      "486           0.00                 0.0000   \n",
      "487           0.00                 0.0000   \n",
      "488           0.00                 0.0000   \n",
      "489           0.00                 0.0000   \n",
      "\n",
      "     avg_extra_charges_per_month_minutes  total_internet   total_mb  \\\n",
      "0                               0.000000             5.0    1901.47   \n",
      "1                               0.000000           245.0   80437.94   \n",
      "2                               0.000000           124.0   40293.33   \n",
      "3                              16.230000            52.0   27044.14   \n",
      "4                               0.000000           460.0  156352.81   \n",
      "..                                   ...             ...        ...   \n",
      "485                             0.585225           290.0   98890.96   \n",
      "486                             0.000000           225.0   64268.64   \n",
      "487                             0.000000            31.0   11106.55   \n",
      "488                             0.000000           657.0  227525.13   \n",
      "489                             0.000000           220.0   71350.23   \n",
      "\n",
      "     promedio_mb_por_ocasion  extra_mb  extra_charges_gb  \\\n",
      "0                 380.294000      0.00               0.0   \n",
      "1                 328.318122  14123.97             160.0   \n",
      "2                 324.946210   3985.08              40.0   \n",
      "3                 520.079615  11684.14             120.0   \n",
      "4                 339.897413  43103.97             470.0   \n",
      "..                       ...       ...               ...   \n",
      "485               341.003310  37450.96             390.0   \n",
      "486               285.638400   2108.26              40.0   \n",
      "487               358.275806      0.00               0.0   \n",
      "488               346.309178  59117.95             640.0   \n",
      "489               324.319227  12285.47             140.0   \n",
      "\n",
      "     avg_extra_charges_per_month_gb  total_messages  extra_messages  \\\n",
      "0                          0.000000            11.0             0.0   \n",
      "1                         32.000000           207.0             3.0   \n",
      "2                         13.333333            88.0             0.0   \n",
      "3                        120.000000            50.0             0.0   \n",
      "4                         58.750000           177.0             0.0   \n",
      "..                              ...             ...             ...   \n",
      "485                       97.500000             0.0             0.0   \n",
      "486                        8.000000            65.0             0.0   \n",
      "487                        0.000000            50.0             0.0   \n",
      "488                       58.181818             0.0             0.0   \n",
      "489                       35.000000             0.0             0.0   \n",
      "\n",
      "     extra_charges_messages  avg_extra_charges_per_month_messages     latest  \n",
      "0                      0.00                                 0.000 2018-12-31  \n",
      "1                      0.09                                 0.018 2018-12-31  \n",
      "2                      0.00                                 0.000 2018-12-31  \n",
      "3                      0.00                                 0.000 2018-12-31  \n",
      "4                      0.00                                 0.000 2018-12-31  \n",
      "..                      ...                                   ...        ...  \n",
      "485                    0.00                                 0.000 2018-12-31  \n",
      "486                    0.00                                 0.000 2018-12-31  \n",
      "487                    0.00                                 0.000 2018-12-31  \n",
      "488                    0.00                                 0.000 2018-12-31  \n",
      "489                    0.00                                 0.000 2018-12-31  \n",
      "\n",
      "[490 rows x 18 columns]\n"
     ]
    }
   ],
   "source": [
    "#visualizando\n",
    "print(df_cim)"
   ]
  },
  {
   "cell_type": "markdown",
   "metadata": {},
   "source": [
    "Ahora tenemos que agregar el costo por cada uno y el costo total. Para esto unamosle ya a una tabla grande y vamos botando columnas"
   ]
  },
  {
   "cell_type": "code",
   "execution_count": 244,
   "metadata": {},
   "outputs": [],
   "source": [
    "#esta es nuestra obt\n",
    "df = df_cim.merge(dfUsers,how='outer',on = 'user_id')"
   ]
  },
  {
   "cell_type": "code",
   "execution_count": 245,
   "metadata": {},
   "outputs": [],
   "source": [
    "#botando las columnas que no nos sirven\n",
    "df.drop(['first_name', 'last_name', 'city','plan'], axis=1, inplace=True, errors='ignore')"
   ]
  },
  {
   "cell_type": "code",
   "execution_count": 246,
   "metadata": {},
   "outputs": [
    {
     "data": {
      "text/plain": [
       "(500, 22)"
      ]
     },
     "execution_count": 246,
     "metadata": {},
     "output_type": "execute_result"
    }
   ],
   "source": [
    "#visualizando\n",
    "df.shape"
   ]
  },
  {
   "cell_type": "markdown",
   "metadata": {},
   "source": [
    "Agregamos months, days y hacemos dummies."
   ]
  },
  {
   "cell_type": "code",
   "execution_count": 247,
   "metadata": {},
   "outputs": [],
   "source": [
    "#agregando months y days\n",
    "df[\"reg_date\"] = pd.to_datetime(df[\"reg_date\"], errors='coerce')\n",
    "df[\"latest\"] = pd.to_datetime(df[\"latest\"], errors='coerce')\n",
    "\n",
    "df[\"days_since_reg\"] = (df[\"latest\"] - df[\"reg_date\"]).dt.days\n",
    "\n",
    "df[\"months_since_reg\"] = (df[\"latest\"].dt.year - df[\"reg_date\"].dt.year) * 12 + (df[\"latest\"].dt.month - df[\"reg_date\"].dt.month)"
   ]
  },
  {
   "cell_type": "code",
   "execution_count": 248,
   "metadata": {
    "scrolled": false
   },
   "outputs": [
    {
     "name": "stdout",
     "output_type": "stream",
     "text": [
      "     user_id  total_calls  total_minutes  promedio_minutes_por_ocasion  \\\n",
      "0       1000         16.0         116.83                      7.301875   \n",
      "1       1001        261.0        1640.46                      6.285287   \n",
      "2       1002        113.0         777.13                      6.877257   \n",
      "3       1003        149.0        1041.00                      6.986577   \n",
      "4       1004        370.0        2618.95                      7.078243   \n",
      "..       ...          ...            ...                           ...   \n",
      "495     1495        253.0        1666.41                      6.586601   \n",
      "496     1496        195.0        1376.21                      7.057487   \n",
      "497     1497         54.0         276.53                      5.120926   \n",
      "498     1498        451.0        3029.97                      6.718337   \n",
      "499     1499        204.0        1450.31                      7.109363   \n",
      "\n",
      "     extra_minutes  extra_charges_minutes  \\\n",
      "0             0.00                 0.0000   \n",
      "1             0.00                 0.0000   \n",
      "2             0.00                 0.0000   \n",
      "3           541.00                16.2300   \n",
      "4             0.00                 0.0000   \n",
      "..             ...                    ...   \n",
      "495          78.03                 2.3409   \n",
      "496           0.00                 0.0000   \n",
      "497           0.00                 0.0000   \n",
      "498           0.00                 0.0000   \n",
      "499           0.00                 0.0000   \n",
      "\n",
      "     avg_extra_charges_per_month_minutes  total_internet   total_mb  \\\n",
      "0                               0.000000             5.0    1901.47   \n",
      "1                               0.000000           245.0   80437.94   \n",
      "2                               0.000000           124.0   40293.33   \n",
      "3                              16.230000            52.0   27044.14   \n",
      "4                               0.000000           460.0  156352.81   \n",
      "..                                   ...             ...        ...   \n",
      "495                             0.585225           290.0   98890.96   \n",
      "496                             0.000000           225.0   64268.64   \n",
      "497                             0.000000            31.0   11106.55   \n",
      "498                             0.000000           657.0  227525.13   \n",
      "499                             0.000000           220.0   71350.23   \n",
      "\n",
      "     promedio_mb_por_ocasion  ...  extra_messages  extra_charges_messages  \\\n",
      "0                 380.294000  ...             0.0                    0.00   \n",
      "1                 328.318122  ...             3.0                    0.09   \n",
      "2                 324.946210  ...             0.0                    0.00   \n",
      "3                 520.079615  ...             0.0                    0.00   \n",
      "4                 339.897413  ...             0.0                    0.00   \n",
      "..                       ...  ...             ...                     ...   \n",
      "495               341.003310  ...             0.0                    0.00   \n",
      "496               285.638400  ...             0.0                    0.00   \n",
      "497               358.275806  ...             0.0                    0.00   \n",
      "498               346.309178  ...             0.0                    0.00   \n",
      "499               324.319227  ...             0.0                    0.00   \n",
      "\n",
      "     avg_extra_charges_per_month_messages     latest  Unnamed: 0  age  \\\n",
      "0                                   0.000 2018-12-31           0   45   \n",
      "1                                   0.018 2018-12-31           1   28   \n",
      "2                                   0.000 2018-12-31           2   36   \n",
      "3                                   0.000 2018-12-31           3   52   \n",
      "4                                   0.000 2018-12-31           4   40   \n",
      "..                                    ...        ...         ...  ...   \n",
      "495                                 0.000 2018-12-31         495   67   \n",
      "496                                 0.000 2018-12-31         496   49   \n",
      "497                                 0.000 2018-12-31         497   49   \n",
      "498                                 0.000 2018-12-31         498   51   \n",
      "499                                 0.000 2018-12-31         499   37   \n",
      "\n",
      "      reg_date plan_name  days_since_reg  months_since_reg  \n",
      "0   2018-12-24  ultimate             7.0               0.0  \n",
      "1   2018-08-13      surf           140.0               4.0  \n",
      "2   2018-10-21      surf            71.0               2.0  \n",
      "3   2018-01-28      surf           337.0              11.0  \n",
      "4   2018-05-23      surf           222.0               7.0  \n",
      "..         ...       ...             ...               ...  \n",
      "495 2018-09-04      surf           118.0               3.0  \n",
      "496 2018-02-20      surf           314.0              10.0  \n",
      "497 2018-12-10  ultimate            21.0               0.0  \n",
      "498 2018-02-04      surf           330.0              10.0  \n",
      "499 2018-05-06      surf           239.0               7.0  \n",
      "\n",
      "[500 rows x 24 columns]\n"
     ]
    }
   ],
   "source": [
    "#visualizando\n",
    "print(df)"
   ]
  },
  {
   "cell_type": "code",
   "execution_count": 249,
   "metadata": {},
   "outputs": [],
   "source": [
    "#haciendo dummies de plan_name\n",
    "df = pd.get_dummies(df, columns=['plan_name'])"
   ]
  },
  {
   "cell_type": "markdown",
   "metadata": {},
   "source": [
    "Ahora hacemos total de exceso, total de exceso promedio"
   ]
  },
  {
   "cell_type": "code",
   "execution_count": 250,
   "metadata": {},
   "outputs": [],
   "source": [
    "#creando el total que se ha excedido\n",
    "df['total_exceso'] = df['extra_charges_messages'] + df['extra_charges_minutes'] + df['extra_charges_gb']"
   ]
  },
  {
   "cell_type": "code",
   "execution_count": 251,
   "metadata": {},
   "outputs": [],
   "source": [
    "#creando el promedio mensual total con el que cada persona se ha excedido\n",
    "df['avg_extra_charges_per_month'] = df['avg_extra_charges_per_month_messages'] + df['avg_extra_charges_per_month_minutes'] + df['avg_extra_charges_per_month_gb']"
   ]
  },
  {
   "cell_type": "code",
   "execution_count": 252,
   "metadata": {},
   "outputs": [],
   "source": [
    "#botando una columna que no nos sirve\n",
    "df.drop(['latest','reg_date'],inplace=True, axis =1)"
   ]
  },
  {
   "cell_type": "code",
   "execution_count": 253,
   "metadata": {},
   "outputs": [
    {
     "name": "stdout",
     "output_type": "stream",
     "text": [
      "<class 'pandas.core.frame.DataFrame'>\n",
      "RangeIndex: 500 entries, 0 to 499\n",
      "Data columns (total 25 columns):\n",
      " #   Column                                Non-Null Count  Dtype  \n",
      "---  ------                                --------------  -----  \n",
      " 0   user_id                               500 non-null    int64  \n",
      " 1   total_calls                           490 non-null    float64\n",
      " 2   total_minutes                         490 non-null    float64\n",
      " 3   promedio_minutes_por_ocasion          490 non-null    float64\n",
      " 4   extra_minutes                         490 non-null    float64\n",
      " 5   extra_charges_minutes                 490 non-null    float64\n",
      " 6   avg_extra_charges_per_month_minutes   490 non-null    float64\n",
      " 7   total_internet                        490 non-null    float64\n",
      " 8   total_mb                              490 non-null    float64\n",
      " 9   promedio_mb_por_ocasion               490 non-null    float64\n",
      " 10  extra_mb                              490 non-null    float64\n",
      " 11  extra_charges_gb                      490 non-null    float64\n",
      " 12  avg_extra_charges_per_month_gb        490 non-null    float64\n",
      " 13  total_messages                        490 non-null    float64\n",
      " 14  extra_messages                        490 non-null    float64\n",
      " 15  extra_charges_messages                490 non-null    float64\n",
      " 16  avg_extra_charges_per_month_messages  490 non-null    float64\n",
      " 17  Unnamed: 0                            500 non-null    int64  \n",
      " 18  age                                   500 non-null    int64  \n",
      " 19  days_since_reg                        490 non-null    float64\n",
      " 20  months_since_reg                      490 non-null    float64\n",
      " 21  plan_name_surf                        500 non-null    bool   \n",
      " 22  plan_name_ultimate                    500 non-null    bool   \n",
      " 23  total_exceso                          490 non-null    float64\n",
      " 24  avg_extra_charges_per_month           490 non-null    float64\n",
      "dtypes: bool(2), float64(20), int64(3)\n",
      "memory usage: 90.9 KB\n",
      "None\n"
     ]
    }
   ],
   "source": [
    "#visualizando\n",
    "print(df.info())"
   ]
  },
  {
   "cell_type": "code",
   "execution_count": 254,
   "metadata": {},
   "outputs": [],
   "source": [
    "#hay que rellenar con 10 ya que no todos participan en todo\n",
    "df.fillna(0,inplace=True)"
   ]
  },
  {
   "cell_type": "code",
   "execution_count": 255,
   "metadata": {},
   "outputs": [],
   "source": [
    "#+1 pq pagas desde el mes 0\n",
    "df['total_pagos_mensuales'] = (df['months_since_reg'] + 1) * df['plan_name_surf'].apply(lambda x: 20 if x else 70)\n"
   ]
  },
  {
   "cell_type": "code",
   "execution_count": 256,
   "metadata": {},
   "outputs": [],
   "source": [
    "#obteniendo el total de pagos y el total de pagos promedio\n",
    "df['total_pagos'] = df['total_pagos_mensuales'] + df['total_exceso']\n",
    "df['total_pagos_promedios'] = df['avg_extra_charges_per_month'] + df['plan_name_surf'].apply(lambda x: 20 if x else 70)\n"
   ]
  },
  {
   "cell_type": "code",
   "execution_count": 257,
   "metadata": {},
   "outputs": [
    {
     "name": "stdout",
     "output_type": "stream",
     "text": [
      "     user_id  total_calls  total_minutes  promedio_minutes_por_ocasion  \\\n",
      "0       1000         16.0         116.83                      7.301875   \n",
      "1       1001        261.0        1640.46                      6.285287   \n",
      "2       1002        113.0         777.13                      6.877257   \n",
      "3       1003        149.0        1041.00                      6.986577   \n",
      "4       1004        370.0        2618.95                      7.078243   \n",
      "..       ...          ...            ...                           ...   \n",
      "495     1495        253.0        1666.41                      6.586601   \n",
      "496     1496        195.0        1376.21                      7.057487   \n",
      "497     1497         54.0         276.53                      5.120926   \n",
      "498     1498        451.0        3029.97                      6.718337   \n",
      "499     1499        204.0        1450.31                      7.109363   \n",
      "\n",
      "     extra_minutes  extra_charges_minutes  \\\n",
      "0             0.00                 0.0000   \n",
      "1             0.00                 0.0000   \n",
      "2             0.00                 0.0000   \n",
      "3           541.00                16.2300   \n",
      "4             0.00                 0.0000   \n",
      "..             ...                    ...   \n",
      "495          78.03                 2.3409   \n",
      "496           0.00                 0.0000   \n",
      "497           0.00                 0.0000   \n",
      "498           0.00                 0.0000   \n",
      "499           0.00                 0.0000   \n",
      "\n",
      "     avg_extra_charges_per_month_minutes  total_internet   total_mb  \\\n",
      "0                               0.000000             5.0    1901.47   \n",
      "1                               0.000000           245.0   80437.94   \n",
      "2                               0.000000           124.0   40293.33   \n",
      "3                              16.230000            52.0   27044.14   \n",
      "4                               0.000000           460.0  156352.81   \n",
      "..                                   ...             ...        ...   \n",
      "495                             0.585225           290.0   98890.96   \n",
      "496                             0.000000           225.0   64268.64   \n",
      "497                             0.000000            31.0   11106.55   \n",
      "498                             0.000000           657.0  227525.13   \n",
      "499                             0.000000           220.0   71350.23   \n",
      "\n",
      "     promedio_mb_por_ocasion  ...  age  days_since_reg  months_since_reg  \\\n",
      "0                 380.294000  ...   45             7.0               0.0   \n",
      "1                 328.318122  ...   28           140.0               4.0   \n",
      "2                 324.946210  ...   36            71.0               2.0   \n",
      "3                 520.079615  ...   52           337.0              11.0   \n",
      "4                 339.897413  ...   40           222.0               7.0   \n",
      "..                       ...  ...  ...             ...               ...   \n",
      "495               341.003310  ...   67           118.0               3.0   \n",
      "496               285.638400  ...   49           314.0              10.0   \n",
      "497               358.275806  ...   49            21.0               0.0   \n",
      "498               346.309178  ...   51           330.0              10.0   \n",
      "499               324.319227  ...   37           239.0               7.0   \n",
      "\n",
      "     plan_name_surf  plan_name_ultimate  total_exceso  \\\n",
      "0             False                True        0.0000   \n",
      "1              True               False      160.0900   \n",
      "2              True               False       40.0000   \n",
      "3              True               False      136.2300   \n",
      "4              True               False      470.0000   \n",
      "..              ...                 ...           ...   \n",
      "495            True               False      392.3409   \n",
      "496            True               False       40.0000   \n",
      "497           False                True        0.0000   \n",
      "498            True               False      640.0000   \n",
      "499            True               False      140.0000   \n",
      "\n",
      "     avg_extra_charges_per_month  total_pagos_mensuales  total_pagos  \\\n",
      "0                       0.000000                   70.0      70.0000   \n",
      "1                      32.018000                  100.0     260.0900   \n",
      "2                      13.333333                   60.0     100.0000   \n",
      "3                     136.230000                  240.0     376.2300   \n",
      "4                      58.750000                  160.0     630.0000   \n",
      "..                           ...                    ...          ...   \n",
      "495                    98.085225                   80.0     472.3409   \n",
      "496                     8.000000                  220.0     260.0000   \n",
      "497                     0.000000                   70.0      70.0000   \n",
      "498                    58.181818                  220.0     860.0000   \n",
      "499                    35.000000                  160.0     300.0000   \n",
      "\n",
      "     total_pagos_promedios  \n",
      "0                70.000000  \n",
      "1                52.018000  \n",
      "2                33.333333  \n",
      "3               156.230000  \n",
      "4                78.750000  \n",
      "..                     ...  \n",
      "495             118.085225  \n",
      "496              28.000000  \n",
      "497              70.000000  \n",
      "498              78.181818  \n",
      "499              55.000000  \n",
      "\n",
      "[500 rows x 28 columns]\n"
     ]
    }
   ],
   "source": [
    "#visualizando\n",
    "print(df)\n"
   ]
  },
  {
   "cell_type": "markdown",
   "metadata": {},
   "source": [
    "Nuestra columna a predecir es total_pagos_promedios. El modelo va a aprender que esta es derivada de las columnas de las cuales es derivada así que tenemos que dar de baja esas columnas."
   ]
  },
  {
   "cell_type": "markdown",
   "metadata": {},
   "source": [
    "Vamos a dar de baja a todas las columnas que tengan que ver con plata. Tambien el user id"
   ]
  },
  {
   "cell_type": "code",
   "execution_count": 258,
   "metadata": {},
   "outputs": [],
   "source": [
    "df.drop(['total_pagos_mensuales','total_pagos','avg_extra_charges_per_month','avg_extra_charges_per_month_minutes','avg_extra_charges_per_month_gb','user_id'], axis = 1, inplace = True)"
   ]
  },
  {
   "cell_type": "code",
   "execution_count": 259,
   "metadata": {},
   "outputs": [
    {
     "name": "stdout",
     "output_type": "stream",
     "text": [
      "     total_calls  total_minutes  promedio_minutes_por_ocasion  extra_minutes  \\\n",
      "0           16.0         116.83                      7.301875           0.00   \n",
      "1          261.0        1640.46                      6.285287           0.00   \n",
      "2          113.0         777.13                      6.877257           0.00   \n",
      "3          149.0        1041.00                      6.986577         541.00   \n",
      "4          370.0        2618.95                      7.078243           0.00   \n",
      "..           ...            ...                           ...            ...   \n",
      "495        253.0        1666.41                      6.586601          78.03   \n",
      "496        195.0        1376.21                      7.057487           0.00   \n",
      "497         54.0         276.53                      5.120926           0.00   \n",
      "498        451.0        3029.97                      6.718337           0.00   \n",
      "499        204.0        1450.31                      7.109363           0.00   \n",
      "\n",
      "     extra_charges_minutes  total_internet   total_mb  \\\n",
      "0                   0.0000             5.0    1901.47   \n",
      "1                   0.0000           245.0   80437.94   \n",
      "2                   0.0000           124.0   40293.33   \n",
      "3                  16.2300            52.0   27044.14   \n",
      "4                   0.0000           460.0  156352.81   \n",
      "..                     ...             ...        ...   \n",
      "495                 2.3409           290.0   98890.96   \n",
      "496                 0.0000           225.0   64268.64   \n",
      "497                 0.0000            31.0   11106.55   \n",
      "498                 0.0000           657.0  227525.13   \n",
      "499                 0.0000           220.0   71350.23   \n",
      "\n",
      "     promedio_mb_por_ocasion  extra_mb  extra_charges_gb  ...  \\\n",
      "0                 380.294000      0.00               0.0  ...   \n",
      "1                 328.318122  14123.97             160.0  ...   \n",
      "2                 324.946210   3985.08              40.0  ...   \n",
      "3                 520.079615  11684.14             120.0  ...   \n",
      "4                 339.897413  43103.97             470.0  ...   \n",
      "..                       ...       ...               ...  ...   \n",
      "495               341.003310  37450.96             390.0  ...   \n",
      "496               285.638400   2108.26              40.0  ...   \n",
      "497               358.275806      0.00               0.0  ...   \n",
      "498               346.309178  59117.95             640.0  ...   \n",
      "499               324.319227  12285.47             140.0  ...   \n",
      "\n",
      "     extra_charges_messages  avg_extra_charges_per_month_messages  Unnamed: 0  \\\n",
      "0                      0.00                                 0.000           0   \n",
      "1                      0.09                                 0.018           1   \n",
      "2                      0.00                                 0.000           2   \n",
      "3                      0.00                                 0.000           3   \n",
      "4                      0.00                                 0.000           4   \n",
      "..                      ...                                   ...         ...   \n",
      "495                    0.00                                 0.000         495   \n",
      "496                    0.00                                 0.000         496   \n",
      "497                    0.00                                 0.000         497   \n",
      "498                    0.00                                 0.000         498   \n",
      "499                    0.00                                 0.000         499   \n",
      "\n",
      "     age  days_since_reg  months_since_reg  plan_name_surf  \\\n",
      "0     45             7.0               0.0           False   \n",
      "1     28           140.0               4.0            True   \n",
      "2     36            71.0               2.0            True   \n",
      "3     52           337.0              11.0            True   \n",
      "4     40           222.0               7.0            True   \n",
      "..   ...             ...               ...             ...   \n",
      "495   67           118.0               3.0            True   \n",
      "496   49           314.0              10.0            True   \n",
      "497   49            21.0               0.0           False   \n",
      "498   51           330.0              10.0            True   \n",
      "499   37           239.0               7.0            True   \n",
      "\n",
      "     plan_name_ultimate  total_exceso  total_pagos_promedios  \n",
      "0                  True        0.0000              70.000000  \n",
      "1                 False      160.0900              52.018000  \n",
      "2                 False       40.0000              33.333333  \n",
      "3                 False      136.2300             156.230000  \n",
      "4                 False      470.0000              78.750000  \n",
      "..                  ...           ...                    ...  \n",
      "495               False      392.3409             118.085225  \n",
      "496               False       40.0000              28.000000  \n",
      "497                True        0.0000              70.000000  \n",
      "498               False      640.0000              78.181818  \n",
      "499               False      140.0000              55.000000  \n",
      "\n",
      "[500 rows x 22 columns]\n"
     ]
    }
   ],
   "source": [
    "#visualizando\n",
    "print(df)\n",
    "#la obt no contiene todos los valores de todos los csv pero si contiene los valores que voy a usar para ml"
   ]
  },
  {
   "cell_type": "markdown",
   "metadata": {},
   "source": [
    "Ahora solo queda exportar"
   ]
  },
  {
   "cell_type": "code",
   "execution_count": 261,
   "metadata": {},
   "outputs": [],
   "source": [
    "df.to_csv(\"../data/ml/ml_ready.csv\")"
   ]
  }
 ],
 "metadata": {
  "kernelspec": {
   "display_name": "Python 3 (ipykernel)",
   "language": "python",
   "name": "python3"
  },
  "language_info": {
   "codemirror_mode": {
    "name": "ipython",
    "version": 3
   },
   "file_extension": ".py",
   "mimetype": "text/x-python",
   "name": "python",
   "nbconvert_exporter": "python",
   "pygments_lexer": "ipython3",
   "version": "3.10.8"
  }
 },
 "nbformat": 4,
 "nbformat_minor": 2
}
