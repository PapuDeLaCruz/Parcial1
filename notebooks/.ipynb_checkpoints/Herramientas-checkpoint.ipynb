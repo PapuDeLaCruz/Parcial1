{
 "cells": [
  {
   "cell_type": "code",
   "execution_count": 15,
   "id": "30d91273",
   "metadata": {},
   "outputs": [],
   "source": [
    "import pandas as pd\n",
    "import matplotlib.pyplot as plt"
   ]
  },
  {
   "cell_type": "code",
   "execution_count": 2,
   "id": "0d33c17c",
   "metadata": {},
   "outputs": [],
   "source": [
    "def agg_std(df): \n",
    "    agg_functions = ['mean', 'std', 'min', 'max', 'var', 'median']\n",
    "    \n",
    "    agg_stats = {}\n",
    "    \n",
    "    for column in df.columns:\n",
    "        column_stats = df[column].agg(agg_functions).to_dict()\n",
    "        \n",
    "        # Skewness and Kurtosis\n",
    "        column_stats['skew'] = df[column].skew()\n",
    "        column_stats['kurt'] = df[column].kurt()\n",
    "        \n",
    "        # Mode Handling\n",
    "        mode_values = df[column].mode()\n",
    "        column_stats['mode'] = mode_values.iloc[0] if not mode_values.empty else None\n",
    "        \n",
    "        # Quantiles\n",
    "        quantiles = df[column].quantile([0.25, 0.5, 0.75]).to_dict()\n",
    "        column_stats.update({f'quantile_{int(q*100)}': v for q, v in quantiles.items()})\n",
    "        \n",
    "        agg_stats[column] = column_stats\n",
    "    \n",
    "    agg_stats_df = pd.DataFrame(agg_stats)\n",
    "    \n",
    "    return agg_stats_df"
   ]
  },
  {
   "cell_type": "code",
   "execution_count": 13,
   "id": "b6004594",
   "metadata": {},
   "outputs": [],
   "source": [
    "def bar(df, i, title, xlabel, ylabel):\n",
    "    freq = df.iloc[:,i].value_counts()\n",
    "    \n",
    "    plt.bar(freq.index, freq.values, edgecolor='black')\n",
    "    \n",
    "    plt.title(title)\n",
    "    plt.xlabel(xlabel)\n",
    "    plt.ylabel(ylabel)\n",
    "    \n",
    "    plt.show()"
   ]
  },
  {
   "cell_type": "code",
   "execution_count": 3,
   "id": "75984437",
   "metadata": {},
   "outputs": [],
   "source": [
    "df = pd.read_csv(\"laptop_data.csv\")"
   ]
  },
  {
   "cell_type": "code",
   "execution_count": 5,
   "id": "cc7ca170",
   "metadata": {},
   "outputs": [],
   "source": [
    "df['Ram'] = df['Ram'].str.replace('GB', '', regex=True).astype(int)"
   ]
  },
  {
   "cell_type": "code",
   "execution_count": 8,
   "id": "8e0095bb",
   "metadata": {},
   "outputs": [
    {
     "name": "stdout",
     "output_type": "stream",
     "text": [
      "      Unnamed: 0 Company            TypeName  Inches  \\\n",
      "0              0   Apple           Ultrabook    13.3   \n",
      "1              1   Apple           Ultrabook    13.3   \n",
      "2              2      HP            Notebook    15.6   \n",
      "3              3   Apple           Ultrabook    15.4   \n",
      "4              4   Apple           Ultrabook    13.3   \n",
      "...          ...     ...                 ...     ...   \n",
      "1298        1298  Lenovo  2 in 1 Convertible    14.0   \n",
      "1299        1299  Lenovo  2 in 1 Convertible    13.3   \n",
      "1300        1300  Lenovo            Notebook    14.0   \n",
      "1301        1301      HP            Notebook    15.6   \n",
      "1302        1302    Asus            Notebook    15.6   \n",
      "\n",
      "                                ScreenResolution  \\\n",
      "0             IPS Panel Retina Display 2560x1600   \n",
      "1                                       1440x900   \n",
      "2                              Full HD 1920x1080   \n",
      "3             IPS Panel Retina Display 2880x1800   \n",
      "4             IPS Panel Retina Display 2560x1600   \n",
      "...                                          ...   \n",
      "1298   IPS Panel Full HD / Touchscreen 1920x1080   \n",
      "1299  IPS Panel Quad HD+ / Touchscreen 3200x1800   \n",
      "1300                                    1366x768   \n",
      "1301                                    1366x768   \n",
      "1302                                    1366x768   \n",
      "\n",
      "                                       Cpu  Ram               Memory  \\\n",
      "0                     Intel Core i5 2.3GHz    8            128GB SSD   \n",
      "1                     Intel Core i5 1.8GHz    8  128GB Flash Storage   \n",
      "2               Intel Core i5 7200U 2.5GHz    8            256GB SSD   \n",
      "3                     Intel Core i7 2.7GHz   16            512GB SSD   \n",
      "4                     Intel Core i5 3.1GHz    8            256GB SSD   \n",
      "...                                    ...  ...                  ...   \n",
      "1298            Intel Core i7 6500U 2.5GHz    4            128GB SSD   \n",
      "1299            Intel Core i7 6500U 2.5GHz   16            512GB SSD   \n",
      "1300  Intel Celeron Dual Core N3050 1.6GHz    2   64GB Flash Storage   \n",
      "1301            Intel Core i7 6500U 2.5GHz    6              1TB HDD   \n",
      "1302  Intel Celeron Dual Core N3050 1.6GHz    4            500GB HDD   \n",
      "\n",
      "                               Gpu       OpSys  Weight        Price  \n",
      "0     Intel Iris Plus Graphics 640       macOS  1.37kg   71378.6832  \n",
      "1           Intel HD Graphics 6000       macOS  1.34kg   47895.5232  \n",
      "2            Intel HD Graphics 620       No OS  1.86kg   30636.0000  \n",
      "3               AMD Radeon Pro 455       macOS  1.83kg  135195.3360  \n",
      "4     Intel Iris Plus Graphics 650       macOS  1.37kg   96095.8080  \n",
      "...                            ...         ...     ...          ...  \n",
      "1298         Intel HD Graphics 520  Windows 10   1.8kg   33992.6400  \n",
      "1299         Intel HD Graphics 520  Windows 10   1.3kg   79866.7200  \n",
      "1300             Intel HD Graphics  Windows 10   1.5kg   12201.1200  \n",
      "1301            AMD Radeon R5 M330  Windows 10  2.19kg   40705.9200  \n",
      "1302             Intel HD Graphics  Windows 10   2.2kg   19660.3200  \n",
      "\n",
      "[1303 rows x 12 columns]\n"
     ]
    }
   ],
   "source": [
    "print(df)"
   ]
  },
  {
   "cell_type": "code",
   "execution_count": 12,
   "id": "63167650",
   "metadata": {},
   "outputs": [
    {
     "name": "stdout",
     "output_type": "stream",
     "text": [
      "                   Ram\n",
      "mean          8.382195\n",
      "std           5.084665\n",
      "min           2.000000\n",
      "max          64.000000\n",
      "var          25.853815\n",
      "median        8.000000\n",
      "skew          2.686806\n",
      "kurt         15.336512\n",
      "mode          8.000000\n",
      "quantile_25   4.000000\n",
      "quantile_50   8.000000\n",
      "quantile_75   8.000000\n"
     ]
    }
   ],
   "source": [
    "print(agg_std(df.iloc[:,6:7]))"
   ]
  },
  {
   "cell_type": "code",
   "execution_count": 16,
   "id": "23e920a4",
   "metadata": {},
   "outputs": [
    {
     "data": {
      "image/png": "[encoded data removed]",
      "text/plain": [
       "<Figure size 640x480 with 1 Axes>"
      ]
     },
     "metadata": {},
     "output_type": "display_data"
    }
   ],
   "source": [
    "bar(df,6,\"Distribución de la Frecuencia de RAM en GB\",\"RAM en GB\",\"Frecuencia\")"
   ]
  }
 ],
 "metadata": {
  "kernelspec": {
   "display_name": "Python 3 (ipykernel)",
   "language": "python",
   "name": "python3"
  },
  "language_info": {
   "codemirror_mode": {
    "name": "ipython",
    "version": 3
   },
   "file_extension": ".py",
   "mimetype": "text/x-python",
   "name": "python",
   "nbconvert_exporter": "python",
   "pygments_lexer": "ipython3",
   "version": "3.10.8"
  }
 },
 "nbformat": 4,
 "nbformat_minor": 5
}
